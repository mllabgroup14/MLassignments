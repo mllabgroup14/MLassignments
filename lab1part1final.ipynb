{
  "nbformat": 4,
  "nbformat_minor": 0,
  "metadata": {
    "colab": {
      "provenance": []
    },
    "kernelspec": {
      "name": "python3",
      "display_name": "Python 3"
    },
    "language_info": {
      "name": "python"
    }
  },
  "cells": [
    {
      "cell_type": "code",
      "execution_count": 1,
      "metadata": {
        "id": "2NSpRNxcCBXK"
      },
      "outputs": [],
      "source": [
        "import numpy as np\n",
        "import pandas as pd\n",
        "from numpy import linalg as la\n",
        "import statistics\n",
        "import matplotlib.pyplot as plt\n",
        "# segregating data into two vectors\n",
        "val = pd.read_excel(r'/content/ml1.xlsx')\n",
        "a = val.iloc[:,1:4].to_numpy()\n",
        "c = val.iloc[:,4].to_numpy()\n"
      ]
    },
    {
      "cell_type": "code",
      "source": [
        "#finding dimensionality of the vector\n",
        "dimension = val.shape\n",
        "print(\"The dimension using shape is \", dimension)\n",
        "dimension1 = val.ndim\n",
        "print(\"The dimension using ndim is \", dimension1)"
      ],
      "metadata": {
        "colab": {
          "base_uri": "https://localhost:8080/"
        },
        "id": "hRdz_ZVqC1Wn",
        "outputId": "77af4970-b08b-4647-be13-e20c1a73bef7"
      },
      "execution_count": 3,
      "outputs": [
        {
          "output_type": "stream",
          "name": "stdout",
          "text": [
            "The dimension using shape is  (10, 22)\n",
            "The dimension using ndim is  2\n"
          ]
        }
      ]
    },
    {
      "cell_type": "code",
      "source": [
        "#how many vectors exist in this vector space\n",
        "print(\"Number of vectors in the vector space are \",len(val))\n",
        "\n"
      ],
      "metadata": {
        "colab": {
          "base_uri": "https://localhost:8080/"
        },
        "id": "LonSnDYFC_ng",
        "outputId": "96741a70-ff8d-4787-f517-2cf823b867a6"
      },
      "execution_count": 4,
      "outputs": [
        {
          "output_type": "stream",
          "name": "stdout",
          "text": [
            "Number of vectors in the vector space are  10\n"
          ]
        }
      ]
    },
    {
      "cell_type": "code",
      "source": [
        "#rank of matrix\n",
        "rankofmatrix = la.matrix_rank(a)\n",
        "print(\"Rank of matrix A is \",rankofmatrix)"
      ],
      "metadata": {
        "colab": {
          "base_uri": "https://localhost:8080/"
        },
        "id": "xkXqFKdPDXcz",
        "outputId": "1c22af09-85e3-445d-f064-0198cabcf5b1"
      },
      "execution_count": 5,
      "outputs": [
        {
          "output_type": "stream",
          "name": "stdout",
          "text": [
            "Rank of matrix A is  3\n"
          ]
        }
      ]
    },
    {
      "cell_type": "code",
      "source": [
        "#finding pseudo inverse of a matrix\n",
        "inverse = la.pinv(a)\n",
        "\n",
        "x = np.matmul(inverse,c)\n",
        "\n",
        "print(x)"
      ],
      "metadata": {
        "colab": {
          "base_uri": "https://localhost:8080/"
        },
        "id": "EoyIQKckDib5",
        "outputId": "f4452cc0-ddc4-4ee1-bf0c-6ebe71e6ec30"
      },
      "execution_count": 6,
      "outputs": [
        {
          "output_type": "stream",
          "name": "stdout",
          "text": [
            "[ 1. 55. 18.]\n"
          ]
        }
      ]
    },
    {
      "cell_type": "code",
      "source": [
        "#classifying into rich and poor\n",
        "val['rich/poor'] = np.where(val['Payment (Rs)'] > 200,'Rich','Poor')\n",
        "\n",
        "print(val)"
      ],
      "metadata": {
        "colab": {
          "base_uri": "https://localhost:8080/"
        },
        "id": "WhZ-XYMnDvK-",
        "outputId": "dcd51038-a29c-4e9f-9967-7e984aae36ce"
      },
      "execution_count": 7,
      "outputs": [
        {
          "output_type": "stream",
          "name": "stdout",
          "text": [
            "  Customer  Candies (#)  Mangoes (Kg)  Milk Packets (#)  Payment (Rs)  \\\n",
            "0      C_1           20             6                 2           386   \n",
            "1      C_2           16             3                 6           289   \n",
            "2      C_3           27             6                 2           393   \n",
            "3      C_4           19             1                 2           110   \n",
            "4      C_5           24             4                 2           280   \n",
            "5      C_6           22             1                 5           167   \n",
            "6      C_7           15             4                 2           271   \n",
            "7      C_8           18             4                 2           274   \n",
            "8      C_9           21             1                 4           148   \n",
            "9     C_10           16             2                 4           198   \n",
            "\n",
            "   Unnamed: 5  Unnamed: 6  Unnamed: 7  Unnamed: 8  Unnamed: 9  ...  \\\n",
            "0         NaN         NaN         NaN         NaN         NaN  ...   \n",
            "1         NaN         NaN         NaN         NaN         NaN  ...   \n",
            "2         NaN         NaN         NaN         NaN         NaN  ...   \n",
            "3         NaN         NaN         NaN         NaN         NaN  ...   \n",
            "4         NaN         NaN         NaN         NaN         NaN  ...   \n",
            "5         NaN         NaN         NaN         NaN         NaN  ...   \n",
            "6         NaN         NaN         NaN         NaN         NaN  ...   \n",
            "7         NaN         NaN         NaN         NaN         NaN  ...   \n",
            "8         NaN         NaN         NaN         NaN         NaN  ...   \n",
            "9         NaN         NaN         NaN         NaN         NaN  ...   \n",
            "\n",
            "   Unnamed: 13  Unnamed: 14  Unnamed: 15  Unnamed: 16  Unnamed: 17  \\\n",
            "0          NaN          NaN          NaN          NaN          NaN   \n",
            "1          NaN          NaN          NaN          NaN          NaN   \n",
            "2          NaN          NaN          NaN          NaN          NaN   \n",
            "3          NaN          NaN          NaN          NaN          NaN   \n",
            "4          NaN          NaN          NaN          NaN          NaN   \n",
            "5          NaN          NaN          NaN          NaN          NaN   \n",
            "6          NaN          NaN          NaN          NaN          NaN   \n",
            "7          NaN          NaN          NaN          NaN          NaN   \n",
            "8          NaN          NaN          NaN          NaN          NaN   \n",
            "9          NaN          NaN          NaN          NaN          NaN   \n",
            "\n",
            "   Unnamed: 18  Candy  Mango  Milk  rich/poor  \n",
            "0          NaN    1.0   55.0  18.0       Rich  \n",
            "1          NaN    NaN    NaN   NaN       Rich  \n",
            "2          NaN    NaN    NaN   NaN       Rich  \n",
            "3          NaN    NaN    NaN   NaN       Poor  \n",
            "4          NaN    NaN    NaN   NaN       Rich  \n",
            "5          NaN    NaN    NaN   NaN       Poor  \n",
            "6          NaN    NaN    NaN   NaN       Rich  \n",
            "7          NaN    NaN    NaN   NaN       Rich  \n",
            "8          NaN    NaN    NaN   NaN       Poor  \n",
            "9          NaN    NaN    NaN   NaN       Poor  \n",
            "\n",
            "[10 rows x 23 columns]\n"
          ]
        }
      ]
    }
  ]
}