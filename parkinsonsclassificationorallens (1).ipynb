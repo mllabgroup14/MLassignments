{
  "nbformat": 4,
  "nbformat_minor": 0,
  "metadata": {
    "colab": {
      "provenance": []
    },
    "kernelspec": {
      "name": "python3",
      "display_name": "Python 3"
    },
    "language_info": {
      "name": "python"
    }
  },
  "cells": [
    {
      "cell_type": "code",
      "execution_count": 38,
      "metadata": {
        "id": "TWcw88-jMVdJ"
      },
      "outputs": [],
      "source": [
        "#test for oralens llc, using parkinsons data\n",
        "import pandas as pd\n",
        "import numpy as np\n",
        "import matplotlib as plt\n",
        "import seaborn as sns"
      ]
    },
    {
      "cell_type": "code",
      "source": [
        "#reading the dataset\n",
        "parkinsonsds = pd.read_csv('/content/parkinsons.csv')"
      ],
      "metadata": {
        "id": "FQzHbjEpMwsE"
      },
      "execution_count": 39,
      "outputs": []
    },
    {
      "cell_type": "code",
      "source": [
        "\n",
        "# Display basic information about the dataset\n",
        "print(\"Dataset Overview:\")\n",
        "print(parkinsonsds.info())\n",
        "\n",
        "# Descriptive statistics for numerical columns\n",
        "print(\"\\nDescriptive Statistics:\")\n",
        "print(parkinsonsds.describe())\n",
        "\n",
        "# Count of missing values in each column\n",
        "print(\"\\nMissing Values:\")\n",
        "print(parkinsonsds.isnull().sum())\n",
        "\n",
        "# Count of unique values in each column\n",
        "print(\"\\nUnique Values:\")\n",
        "print(parkinsonsds.nunique())\n",
        "\n",
        "# Correlation matrix\n",
        "print(\"\\nCorrelation Matrix:\")\n",
        "print(parkinsonsds.corr())\n"
      ],
      "metadata": {
        "colab": {
          "base_uri": "https://localhost:8080/"
        },
        "id": "jiWyxhn6NC_w",
        "outputId": "ba183a9c-a267-4a26-c707-08ea5ac9f190"
      },
      "execution_count": 40,
      "outputs": [
        {
          "output_type": "stream",
          "name": "stdout",
          "text": [
            "Dataset Overview:\n",
            "<class 'pandas.core.frame.DataFrame'>\n",
            "RangeIndex: 195 entries, 0 to 194\n",
            "Data columns (total 24 columns):\n",
            " #   Column            Non-Null Count  Dtype  \n",
            "---  ------            --------------  -----  \n",
            " 0   name              195 non-null    object \n",
            " 1   MDVP:Fo(Hz)       195 non-null    float64\n",
            " 2   MDVP:Fhi(Hz)      195 non-null    float64\n",
            " 3   MDVP:Flo(Hz)      195 non-null    float64\n",
            " 4   MDVP:Jitter(%)    195 non-null    float64\n",
            " 5   MDVP:Jitter(Abs)  195 non-null    float64\n",
            " 6   MDVP:RAP          195 non-null    float64\n",
            " 7   MDVP:PPQ          195 non-null    float64\n",
            " 8   Jitter:DDP        195 non-null    float64\n",
            " 9   MDVP:Shimmer      195 non-null    float64\n",
            " 10  MDVP:Shimmer(dB)  195 non-null    float64\n",
            " 11  Shimmer:APQ3      195 non-null    float64\n",
            " 12  Shimmer:APQ5      195 non-null    float64\n",
            " 13  MDVP:APQ          195 non-null    float64\n",
            " 14  Shimmer:DDA       195 non-null    float64\n",
            " 15  NHR               195 non-null    float64\n",
            " 16  HNR               195 non-null    float64\n",
            " 17  status            195 non-null    int64  \n",
            " 18  RPDE              195 non-null    float64\n",
            " 19  DFA               195 non-null    float64\n",
            " 20  spread1           195 non-null    float64\n",
            " 21  spread2           195 non-null    float64\n",
            " 22  D2                195 non-null    float64\n",
            " 23  PPE               195 non-null    float64\n",
            "dtypes: float64(22), int64(1), object(1)\n",
            "memory usage: 36.7+ KB\n",
            "None\n",
            "\n",
            "Descriptive Statistics:\n",
            "       MDVP:Fo(Hz)  MDVP:Fhi(Hz)  MDVP:Flo(Hz)  MDVP:Jitter(%)  \\\n",
            "count   195.000000    195.000000    195.000000      195.000000   \n",
            "mean    154.228641    197.104918    116.324631        0.006220   \n",
            "std      41.390065     91.491548     43.521413        0.004848   \n",
            "min      88.333000    102.145000     65.476000        0.001680   \n",
            "25%     117.572000    134.862500     84.291000        0.003460   \n",
            "50%     148.790000    175.829000    104.315000        0.004940   \n",
            "75%     182.769000    224.205500    140.018500        0.007365   \n",
            "max     260.105000    592.030000    239.170000        0.033160   \n",
            "\n",
            "       MDVP:Jitter(Abs)    MDVP:RAP    MDVP:PPQ  Jitter:DDP  MDVP:Shimmer  \\\n",
            "count        195.000000  195.000000  195.000000  195.000000    195.000000   \n",
            "mean           0.000044    0.003306    0.003446    0.009920      0.029709   \n",
            "std            0.000035    0.002968    0.002759    0.008903      0.018857   \n",
            "min            0.000007    0.000680    0.000920    0.002040      0.009540   \n",
            "25%            0.000020    0.001660    0.001860    0.004985      0.016505   \n",
            "50%            0.000030    0.002500    0.002690    0.007490      0.022970   \n",
            "75%            0.000060    0.003835    0.003955    0.011505      0.037885   \n",
            "max            0.000260    0.021440    0.019580    0.064330      0.119080   \n",
            "\n",
            "       MDVP:Shimmer(dB)  ...  Shimmer:DDA         NHR         HNR      status  \\\n",
            "count        195.000000  ...   195.000000  195.000000  195.000000  195.000000   \n",
            "mean           0.282251  ...     0.046993    0.024847   21.885974    0.753846   \n",
            "std            0.194877  ...     0.030459    0.040418    4.425764    0.431878   \n",
            "min            0.085000  ...     0.013640    0.000650    8.441000    0.000000   \n",
            "25%            0.148500  ...     0.024735    0.005925   19.198000    1.000000   \n",
            "50%            0.221000  ...     0.038360    0.011660   22.085000    1.000000   \n",
            "75%            0.350000  ...     0.060795    0.025640   25.075500    1.000000   \n",
            "max            1.302000  ...     0.169420    0.314820   33.047000    1.000000   \n",
            "\n",
            "             RPDE         DFA     spread1     spread2          D2         PPE  \n",
            "count  195.000000  195.000000  195.000000  195.000000  195.000000  195.000000  \n",
            "mean     0.498536    0.718099   -5.684397    0.226510    2.381826    0.206552  \n",
            "std      0.103942    0.055336    1.090208    0.083406    0.382799    0.090119  \n",
            "min      0.256570    0.574282   -7.964984    0.006274    1.423287    0.044539  \n",
            "25%      0.421306    0.674758   -6.450096    0.174351    2.099125    0.137451  \n",
            "50%      0.495954    0.722254   -5.720868    0.218885    2.361532    0.194052  \n",
            "75%      0.587562    0.761881   -5.046192    0.279234    2.636456    0.252980  \n",
            "max      0.685151    0.825288   -2.434031    0.450493    3.671155    0.527367  \n",
            "\n",
            "[8 rows x 23 columns]\n",
            "\n",
            "Missing Values:\n",
            "name                0\n",
            "MDVP:Fo(Hz)         0\n",
            "MDVP:Fhi(Hz)        0\n",
            "MDVP:Flo(Hz)        0\n",
            "MDVP:Jitter(%)      0\n",
            "MDVP:Jitter(Abs)    0\n",
            "MDVP:RAP            0\n",
            "MDVP:PPQ            0\n",
            "Jitter:DDP          0\n",
            "MDVP:Shimmer        0\n",
            "MDVP:Shimmer(dB)    0\n",
            "Shimmer:APQ3        0\n",
            "Shimmer:APQ5        0\n",
            "MDVP:APQ            0\n",
            "Shimmer:DDA         0\n",
            "NHR                 0\n",
            "HNR                 0\n",
            "status              0\n",
            "RPDE                0\n",
            "DFA                 0\n",
            "spread1             0\n",
            "spread2             0\n",
            "D2                  0\n",
            "PPE                 0\n",
            "dtype: int64\n",
            "\n",
            "Unique Values:\n",
            "name                195\n",
            "MDVP:Fo(Hz)         195\n",
            "MDVP:Fhi(Hz)        195\n",
            "MDVP:Flo(Hz)        195\n",
            "MDVP:Jitter(%)      173\n",
            "MDVP:Jitter(Abs)     19\n",
            "MDVP:RAP            155\n",
            "MDVP:PPQ            165\n",
            "Jitter:DDP          180\n",
            "MDVP:Shimmer        188\n",
            "MDVP:Shimmer(dB)    149\n",
            "Shimmer:APQ3        184\n",
            "Shimmer:APQ5        189\n",
            "MDVP:APQ            189\n",
            "Shimmer:DDA         189\n",
            "NHR                 185\n",
            "HNR                 195\n",
            "status                2\n",
            "RPDE                195\n",
            "DFA                 195\n",
            "spread1             195\n",
            "spread2             194\n",
            "D2                  195\n",
            "PPE                 195\n",
            "dtype: int64\n",
            "\n",
            "Correlation Matrix:\n",
            "                  MDVP:Fo(Hz)  MDVP:Fhi(Hz)  MDVP:Flo(Hz)  MDVP:Jitter(%)  \\\n",
            "MDVP:Fo(Hz)          1.000000      0.400985      0.596546       -0.118003   \n",
            "MDVP:Fhi(Hz)         0.400985      1.000000      0.084951        0.102086   \n",
            "MDVP:Flo(Hz)         0.596546      0.084951      1.000000       -0.139919   \n",
            "MDVP:Jitter(%)      -0.118003      0.102086     -0.139919        1.000000   \n",
            "MDVP:Jitter(Abs)    -0.382027     -0.029198     -0.277815        0.935714   \n",
            "MDVP:RAP            -0.076194      0.097177     -0.100519        0.990276   \n",
            "MDVP:PPQ            -0.112165      0.091126     -0.095828        0.974256   \n",
            "Jitter:DDP          -0.076213      0.097150     -0.100488        0.990276   \n",
            "MDVP:Shimmer        -0.098374      0.002281     -0.144543        0.769063   \n",
            "MDVP:Shimmer(dB)    -0.073742      0.043465     -0.119089        0.804289   \n",
            "Shimmer:APQ3        -0.094717     -0.003743     -0.150747        0.746625   \n",
            "Shimmer:APQ5        -0.070682     -0.009997     -0.101095        0.725561   \n",
            "MDVP:APQ            -0.077774      0.004937     -0.107293        0.758255   \n",
            "Shimmer:DDA         -0.094732     -0.003733     -0.150737        0.746635   \n",
            "NHR                 -0.021981      0.163766     -0.108670        0.906959   \n",
            "HNR                  0.059144     -0.024893      0.210851       -0.728165   \n",
            "status              -0.383535     -0.166136     -0.380200        0.278220   \n",
            "RPDE                -0.383894     -0.112404     -0.400143        0.360673   \n",
            "DFA                 -0.446013     -0.343097     -0.050406        0.098572   \n",
            "spread1             -0.413738     -0.076658     -0.394857        0.693577   \n",
            "spread2             -0.249450     -0.002954     -0.243829        0.385123   \n",
            "D2                   0.177980      0.176323     -0.100629        0.433434   \n",
            "PPE                 -0.372356     -0.069543     -0.340071        0.721543   \n",
            "\n",
            "                  MDVP:Jitter(Abs)  MDVP:RAP  MDVP:PPQ  Jitter:DDP  \\\n",
            "MDVP:Fo(Hz)              -0.382027 -0.076194 -0.112165   -0.076213   \n",
            "MDVP:Fhi(Hz)             -0.029198  0.097177  0.091126    0.097150   \n",
            "MDVP:Flo(Hz)             -0.277815 -0.100519 -0.095828   -0.100488   \n",
            "MDVP:Jitter(%)            0.935714  0.990276  0.974256    0.990276   \n",
            "MDVP:Jitter(Abs)          1.000000  0.922911  0.897778    0.922913   \n",
            "MDVP:RAP                  0.922911  1.000000  0.957317    1.000000   \n",
            "MDVP:PPQ                  0.897778  0.957317  1.000000    0.957319   \n",
            "Jitter:DDP                0.922913  1.000000  0.957319    1.000000   \n",
            "MDVP:Shimmer              0.703322  0.759581  0.797826    0.759555   \n",
            "MDVP:Shimmer(dB)          0.716601  0.790652  0.839239    0.790621   \n",
            "Shimmer:APQ3              0.697153  0.744912  0.763580    0.744894   \n",
            "Shimmer:APQ5              0.648961  0.709927  0.786780    0.709907   \n",
            "MDVP:APQ                  0.648793  0.737455  0.804139    0.737439   \n",
            "Shimmer:DDA               0.697170  0.744919  0.763592    0.744901   \n",
            "NHR                       0.834972  0.919521  0.844604    0.919548   \n",
            "HNR                      -0.656810 -0.721543 -0.731510   -0.721494   \n",
            "status                    0.338653  0.266668  0.288698    0.266646   \n",
            "RPDE                      0.441839  0.342140  0.333274    0.342079   \n",
            "DFA                       0.175036  0.064083  0.196301    0.064026   \n",
            "spread1                   0.735779  0.648328  0.716489    0.648328   \n",
            "spread2                   0.388543  0.324407  0.407605    0.324377   \n",
            "D2                        0.310694  0.426605  0.412524    0.426556   \n",
            "PPE                       0.748162  0.670999  0.769647    0.671005   \n",
            "\n",
            "                  MDVP:Shimmer  MDVP:Shimmer(dB)  ...  Shimmer:DDA       NHR  \\\n",
            "MDVP:Fo(Hz)          -0.098374         -0.073742  ...    -0.094732 -0.021981   \n",
            "MDVP:Fhi(Hz)          0.002281          0.043465  ...    -0.003733  0.163766   \n",
            "MDVP:Flo(Hz)         -0.144543         -0.119089  ...    -0.150737 -0.108670   \n",
            "MDVP:Jitter(%)        0.769063          0.804289  ...     0.746635  0.906959   \n",
            "MDVP:Jitter(Abs)      0.703322          0.716601  ...     0.697170  0.834972   \n",
            "MDVP:RAP              0.759581          0.790652  ...     0.744919  0.919521   \n",
            "MDVP:PPQ              0.797826          0.839239  ...     0.763592  0.844604   \n",
            "Jitter:DDP            0.759555          0.790621  ...     0.744901  0.919548   \n",
            "MDVP:Shimmer          1.000000          0.987258  ...     0.987626  0.722194   \n",
            "MDVP:Shimmer(dB)      0.987258          1.000000  ...     0.963202  0.744477   \n",
            "Shimmer:APQ3          0.987625          0.963198  ...     1.000000  0.716207   \n",
            "Shimmer:APQ5          0.982835          0.973751  ...     0.960072  0.658080   \n",
            "MDVP:APQ              0.950083          0.960977  ...     0.896647  0.694019   \n",
            "Shimmer:DDA           0.987626          0.963202  ...     1.000000  0.716215   \n",
            "NHR                   0.722194          0.744477  ...     0.716215  1.000000   \n",
            "HNR                  -0.835271         -0.827805  ...    -0.827130 -0.714072   \n",
            "status                0.367430          0.350697  ...     0.347608  0.189429   \n",
            "RPDE                  0.447424          0.410684  ...     0.435237  0.370890   \n",
            "DFA                   0.159954          0.165157  ...     0.151132 -0.131882   \n",
            "spread1               0.654734          0.652547  ...     0.610971  0.540865   \n",
            "spread2               0.452025          0.454314  ...     0.402223  0.318099   \n",
            "D2                    0.507088          0.512233  ...     0.467261  0.470949   \n",
            "PPE                   0.693771          0.695058  ...     0.645389  0.552591   \n",
            "\n",
            "                       HNR    status      RPDE       DFA   spread1   spread2  \\\n",
            "MDVP:Fo(Hz)       0.059144 -0.383535 -0.383894 -0.446013 -0.413738 -0.249450   \n",
            "MDVP:Fhi(Hz)     -0.024893 -0.166136 -0.112404 -0.343097 -0.076658 -0.002954   \n",
            "MDVP:Flo(Hz)      0.210851 -0.380200 -0.400143 -0.050406 -0.394857 -0.243829   \n",
            "MDVP:Jitter(%)   -0.728165  0.278220  0.360673  0.098572  0.693577  0.385123   \n",
            "MDVP:Jitter(Abs) -0.656810  0.338653  0.441839  0.175036  0.735779  0.388543   \n",
            "MDVP:RAP         -0.721543  0.266668  0.342140  0.064083  0.648328  0.324407   \n",
            "MDVP:PPQ         -0.731510  0.288698  0.333274  0.196301  0.716489  0.407605   \n",
            "Jitter:DDP       -0.721494  0.266646  0.342079  0.064026  0.648328  0.324377   \n",
            "MDVP:Shimmer     -0.835271  0.367430  0.447424  0.159954  0.654734  0.452025   \n",
            "MDVP:Shimmer(dB) -0.827805  0.350697  0.410684  0.165157  0.652547  0.454314   \n",
            "Shimmer:APQ3     -0.827123  0.347617  0.435242  0.151124  0.610967  0.402243   \n",
            "Shimmer:APQ5     -0.813753  0.351148  0.399903  0.213873  0.646809  0.457195   \n",
            "MDVP:APQ         -0.800407  0.364316  0.451379  0.157276  0.673158  0.502188   \n",
            "Shimmer:DDA      -0.827130  0.347608  0.435237  0.151132  0.610971  0.402223   \n",
            "NHR              -0.714072  0.189429  0.370890 -0.131882  0.540865  0.318099   \n",
            "HNR               1.000000 -0.361515 -0.598736 -0.008665 -0.673210 -0.431564   \n",
            "status           -0.361515  1.000000  0.308567  0.231739  0.564838  0.454842   \n",
            "RPDE             -0.598736  0.308567  1.000000 -0.110950  0.591117  0.479905   \n",
            "DFA              -0.008665  0.231739 -0.110950  1.000000  0.195668  0.166548   \n",
            "spread1          -0.673210  0.564838  0.591117  0.195668  1.000000  0.652358   \n",
            "spread2          -0.431564  0.454842  0.479905  0.166548  0.652358  1.000000   \n",
            "D2               -0.601401  0.340232  0.236931 -0.165381  0.495123  0.523532   \n",
            "PPE              -0.692876  0.531039  0.545886  0.270445  0.962435  0.644711   \n",
            "\n",
            "                        D2       PPE  \n",
            "MDVP:Fo(Hz)       0.177980 -0.372356  \n",
            "MDVP:Fhi(Hz)      0.176323 -0.069543  \n",
            "MDVP:Flo(Hz)     -0.100629 -0.340071  \n",
            "MDVP:Jitter(%)    0.433434  0.721543  \n",
            "MDVP:Jitter(Abs)  0.310694  0.748162  \n",
            "MDVP:RAP          0.426605  0.670999  \n",
            "MDVP:PPQ          0.412524  0.769647  \n",
            "Jitter:DDP        0.426556  0.671005  \n",
            "MDVP:Shimmer      0.507088  0.693771  \n",
            "MDVP:Shimmer(dB)  0.512233  0.695058  \n",
            "Shimmer:APQ3      0.467265  0.645377  \n",
            "Shimmer:APQ5      0.502174  0.702456  \n",
            "MDVP:APQ          0.536869  0.721694  \n",
            "Shimmer:DDA       0.467261  0.645389  \n",
            "NHR               0.470949  0.552591  \n",
            "HNR              -0.601401 -0.692876  \n",
            "status            0.340232  0.531039  \n",
            "RPDE              0.236931  0.545886  \n",
            "DFA              -0.165381  0.270445  \n",
            "spread1           0.495123  0.962435  \n",
            "spread2           0.523532  0.644711  \n",
            "D2                1.000000  0.480585  \n",
            "PPE               0.480585  1.000000  \n",
            "\n",
            "[23 rows x 23 columns]\n"
          ]
        },
        {
          "output_type": "stream",
          "name": "stderr",
          "text": [
            "<ipython-input-40-d2f654178705>:19: FutureWarning: The default value of numeric_only in DataFrame.corr is deprecated. In a future version, it will default to False. Select only valid columns or specify the value of numeric_only to silence this warning.\n",
            "  print(parkinsonsds.corr())\n"
          ]
        }
      ]
    },
    {
      "cell_type": "code",
      "source": [
        "# Count of missing values in each column\n",
        "null_values_count = parkinsonsds.isnull().sum()\n",
        "\n",
        "# Display the number of null values for each column\n",
        "print(\"Number of Null Values in Each Column:\")\n",
        "print(null_values_count)\n"
      ],
      "metadata": {
        "colab": {
          "base_uri": "https://localhost:8080/"
        },
        "id": "P5yStT4WNfJp",
        "outputId": "91a17fc0-c3d1-4dd5-e08f-9d22eeab5f51"
      },
      "execution_count": 41,
      "outputs": [
        {
          "output_type": "stream",
          "name": "stdout",
          "text": [
            "Number of Null Values in Each Column:\n",
            "name                0\n",
            "MDVP:Fo(Hz)         0\n",
            "MDVP:Fhi(Hz)        0\n",
            "MDVP:Flo(Hz)        0\n",
            "MDVP:Jitter(%)      0\n",
            "MDVP:Jitter(Abs)    0\n",
            "MDVP:RAP            0\n",
            "MDVP:PPQ            0\n",
            "Jitter:DDP          0\n",
            "MDVP:Shimmer        0\n",
            "MDVP:Shimmer(dB)    0\n",
            "Shimmer:APQ3        0\n",
            "Shimmer:APQ5        0\n",
            "MDVP:APQ            0\n",
            "Shimmer:DDA         0\n",
            "NHR                 0\n",
            "HNR                 0\n",
            "status              0\n",
            "RPDE                0\n",
            "DFA                 0\n",
            "spread1             0\n",
            "spread2             0\n",
            "D2                  0\n",
            "PPE                 0\n",
            "dtype: int64\n"
          ]
        }
      ]
    },
    {
      "cell_type": "code",
      "source": [
        "#dropping name column from database\n",
        "parkinsonsds = parkinsonsds.drop('name', axis=1)\n",
        "\n",
        "# Display the updated DataFrame\n",
        "print(parkinsonsds.head())\n",
        "\n"
      ],
      "metadata": {
        "colab": {
          "base_uri": "https://localhost:8080/"
        },
        "id": "zA58-_KmNmfw",
        "outputId": "3893eade-1989-43a8-8a7b-af3743a13187"
      },
      "execution_count": 42,
      "outputs": [
        {
          "output_type": "stream",
          "name": "stdout",
          "text": [
            "   MDVP:Fo(Hz)  MDVP:Fhi(Hz)  MDVP:Flo(Hz)  MDVP:Jitter(%)  MDVP:Jitter(Abs)  \\\n",
            "0      119.992       157.302        74.997         0.00784           0.00007   \n",
            "1      122.400       148.650       113.819         0.00968           0.00008   \n",
            "2      116.682       131.111       111.555         0.01050           0.00009   \n",
            "3      116.676       137.871       111.366         0.00997           0.00009   \n",
            "4      116.014       141.781       110.655         0.01284           0.00011   \n",
            "\n",
            "   MDVP:RAP  MDVP:PPQ  Jitter:DDP  MDVP:Shimmer  MDVP:Shimmer(dB)  ...  \\\n",
            "0   0.00370   0.00554     0.01109       0.04374             0.426  ...   \n",
            "1   0.00465   0.00696     0.01394       0.06134             0.626  ...   \n",
            "2   0.00544   0.00781     0.01633       0.05233             0.482  ...   \n",
            "3   0.00502   0.00698     0.01505       0.05492             0.517  ...   \n",
            "4   0.00655   0.00908     0.01966       0.06425             0.584  ...   \n",
            "\n",
            "   Shimmer:DDA      NHR     HNR  status      RPDE       DFA   spread1  \\\n",
            "0      0.06545  0.02211  21.033       1  0.414783  0.815285 -4.813031   \n",
            "1      0.09403  0.01929  19.085       1  0.458359  0.819521 -4.075192   \n",
            "2      0.08270  0.01309  20.651       1  0.429895  0.825288 -4.443179   \n",
            "3      0.08771  0.01353  20.644       1  0.434969  0.819235 -4.117501   \n",
            "4      0.10470  0.01767  19.649       1  0.417356  0.823484 -3.747787   \n",
            "\n",
            "    spread2        D2       PPE  \n",
            "0  0.266482  2.301442  0.284654  \n",
            "1  0.335590  2.486855  0.368674  \n",
            "2  0.311173  2.342259  0.332634  \n",
            "3  0.334147  2.405554  0.368975  \n",
            "4  0.234513  2.332180  0.410335  \n",
            "\n",
            "[5 rows x 23 columns]\n"
          ]
        }
      ]
    },
    {
      "cell_type": "code",
      "source": [
        "#couting status to solve class imbalance\n",
        "status_counts = parkinsonsds['status'].value_counts()\n",
        "\n",
        "# Display the counts\n",
        "print(\"Count of 0 and 1 in 'status' variable:\")\n",
        "print(status_counts)\n"
      ],
      "metadata": {
        "colab": {
          "base_uri": "https://localhost:8080/"
        },
        "id": "r3xfAGipOZC8",
        "outputId": "40f235aa-d688-4c6f-dfb3-647d5b2680a0"
      },
      "execution_count": 43,
      "outputs": [
        {
          "output_type": "stream",
          "name": "stdout",
          "text": [
            "Count of 0 and 1 in 'status' variable:\n",
            "1    147\n",
            "0     48\n",
            "Name: status, dtype: int64\n"
          ]
        }
      ]
    },
    {
      "cell_type": "code",
      "source": [],
      "metadata": {
        "id": "nigHd4beOvlT"
      },
      "execution_count": 43,
      "outputs": []
    },
    {
      "cell_type": "code",
      "source": [
        "#implementing SMOTE to oversample the minority class\n",
        "import pandas as pd\n",
        "from imblearn.over_sampling import SMOTE\n",
        "from sklearn.model_selection import train_test_split\n",
        "\n",
        "\n",
        "# Separate features (X) and target variable (y)\n",
        "X = parkinsonsds.drop('status', axis=1)\n",
        "y = parkinsonsds['status']\n",
        "\n",
        "# Apply SMOTE to balance the dataset\n",
        "smote = SMOTE(random_state=42)\n",
        "X_smote, y_smote = smote.fit_resample(X, y)\n",
        "\n",
        "# Display the shape of the original and balanced datasets\n",
        "print(\"Original Dataset Shape:\", X.shape, y.shape)\n",
        "print(\"Balanced Dataset Shape:\", X_smote.shape, y)\n"
      ],
      "metadata": {
        "colab": {
          "base_uri": "https://localhost:8080/"
        },
        "id": "Oq5GeFykOhX9",
        "outputId": "d037ed8b-6d85-4718-8038-7b519e6eebfb"
      },
      "execution_count": 44,
      "outputs": [
        {
          "output_type": "stream",
          "name": "stdout",
          "text": [
            "Original Dataset Shape: (195, 22) (195,)\n",
            "Balanced Dataset Shape: (294, 22) 0      1\n",
            "1      1\n",
            "2      1\n",
            "3      1\n",
            "4      1\n",
            "      ..\n",
            "190    0\n",
            "191    0\n",
            "192    0\n",
            "193    0\n",
            "194    0\n",
            "Name: status, Length: 195, dtype: int64\n"
          ]
        }
      ]
    },
    {
      "cell_type": "code",
      "source": [
        "\n",
        "status_counts = parkinsonsds['status'].value_counts()\n",
        "\n",
        "# Display the counts\n",
        "print(\"Count of 0 and 1 in 'status' variable:\")\n",
        "print(status_counts)"
      ],
      "metadata": {
        "colab": {
          "base_uri": "https://localhost:8080/"
        },
        "id": "gogt3pqDOyhE",
        "outputId": "a3ba3ff4-ce28-4ef6-8611-04986e64d485"
      },
      "execution_count": 45,
      "outputs": [
        {
          "output_type": "stream",
          "name": "stdout",
          "text": [
            "Count of 0 and 1 in 'status' variable:\n",
            "1    147\n",
            "0     48\n",
            "Name: status, dtype: int64\n"
          ]
        }
      ]
    },
    {
      "cell_type": "code",
      "source": [],
      "metadata": {
        "id": "Di52ZU3Fw8Ic"
      },
      "execution_count": 45,
      "outputs": []
    },
    {
      "cell_type": "code",
      "source": [
        "import pandas as pd\n",
        "from sklearn.model_selection import train_test_split\n",
        "from sklearn.ensemble import RandomForestClassifier\n",
        "from sklearn.metrics import accuracy_score, classification_report, confusion_matrix\n",
        "\n",
        "# Assuming 'parkinsonsds.csv' is the name of your dataset file\n",
        "file_path = 'path/to/parkinsonsds.csv'\n",
        "\n",
        "\n",
        "# Separate features (X) and target variable (y)\n",
        "X = parkinsonsds.drop('status', axis=1)  # Assuming 'status' is the target variable\n",
        "y = parkinsonsds['status']\n",
        "\n",
        "# Split the dataset into training and testing sets\n",
        "X_train, X_test, y_train, y_test = train_test_split(X, y, test_size=0.2, random_state=42)\n",
        "\n",
        "# Create a Random Forest classifier\n",
        "rf_classifier = RandomForestClassifier(n_estimators=100, random_state=42)\n",
        "\n",
        "# Train the classifier on the training data\n",
        "rf_classifier.fit(X_train, y_train)\n",
        "\n",
        "# Make predictions on the test data\n",
        "y_pred = rf_classifier.predict(X_test)\n",
        "\n",
        "# Evaluate the model\n",
        "accuracy = accuracy_score(y_test, y_pred)\n",
        "conf_matrix = confusion_matrix(y_test, y_pred)\n",
        "classification_rep = classification_report(y_test, y_pred)\n",
        "\n",
        "# Display the evaluation metrics\n",
        "print(\"Accuracy:\", accuracy)\n",
        "print(\"\\nConfusion Matrix:\")\n",
        "print(conf_matrix)\n",
        "print(\"\\nClassification Report:\")\n",
        "print(classification_rep)\n"
      ],
      "metadata": {
        "id": "TYy_sFTJO6Jo",
        "colab": {
          "base_uri": "https://localhost:8080/"
        },
        "outputId": "6ed1df1c-fd67-4ad7-80af-77fdfc408162"
      },
      "execution_count": 46,
      "outputs": [
        {
          "output_type": "stream",
          "name": "stdout",
          "text": [
            "Accuracy: 0.9487179487179487\n",
            "\n",
            "Confusion Matrix:\n",
            "[[ 5  2]\n",
            " [ 0 32]]\n",
            "\n",
            "Classification Report:\n",
            "              precision    recall  f1-score   support\n",
            "\n",
            "           0       1.00      0.71      0.83         7\n",
            "           1       0.94      1.00      0.97        32\n",
            "\n",
            "    accuracy                           0.95        39\n",
            "   macro avg       0.97      0.86      0.90        39\n",
            "weighted avg       0.95      0.95      0.95        39\n",
            "\n"
          ]
        }
      ]
    },
    {
      "cell_type": "code",
      "source": [
        "from sklearn.metrics import precision_score, recall_score, f1_score\n",
        "from sklearn.model_selection import train_test_split, cross_val_score\n",
        "from sklearn.neighbors import KNeighborsClassifier\n",
        "from sklearn.metrics import accuracy_score, precision_score, recall_score, f1_score\n",
        "import matplotlib.pyplot as plt\n",
        "\n",
        "# Separate features and target variable\n",
        "X = parkinsonsds.drop(columns=['status'])\n",
        "y = parkinsonsds['status']\n",
        "\n",
        "# Split the dataset into training and testing sets\n",
        "X_train, X_test, y_train, y_test = train_test_split(X, y, test_size=0.2, random_state=42)\n",
        "\n",
        "# Test different values of k (1 to 20)\n",
        "k_values = list(range(1, 21))\n",
        "accuracy_scores = []\n",
        "precision_scores = []\n",
        "recall_scores = []\n",
        "f1_scores = []\n",
        "\n",
        "for k in k_values:\n",
        "    knn_model = KNeighborsClassifier(n_neighbors=k)\n",
        "    knn_model.fit(X_train, y_train)\n",
        "\n",
        "    # Predictions on the test set\n",
        "    y_pred = knn_model.predict(X_test)\n",
        "\n",
        "    # Calculate evaluation metrics\n",
        "    accuracy = knn_model.score(X_test, y_test)\n",
        "    precision = precision_score(y_test, y_pred)\n",
        "    recall = recall_score(y_test, y_pred)\n",
        "    f1 = f1_score(y_test, y_pred)\n",
        "\n",
        "    accuracy_scores.append(accuracy)\n",
        "    precision_scores.append(precision)\n",
        "    recall_scores.append(recall)\n",
        "    f1_scores.append(f1)\n",
        "\n",
        "# Find the best k value based on accuracy\n",
        "best_k_acc = k_values[accuracy_scores.index(max(accuracy_scores))]\n",
        "\n",
        "# Find the best k value based on F1-score\n",
        "best_k_f1 = k_values[f1_scores.index(max(f1_scores))]\n",
        "\n",
        "# Plot the metrics for different k values\n",
        "plt.plot(k_values, accuracy_scores, label='Accuracy', marker='o')\n",
        "plt.plot(k_values, precision_scores, label='Precision', marker='o')\n",
        "plt.plot(k_values, recall_scores, label='Recall', marker='o')\n",
        "plt.plot(k_values, f1_scores, label='F1 Score', marker='o')\n",
        "plt.title('Evaluation Metrics vs. K Value for KNN')\n",
        "plt.xlabel('K Value')\n",
        "plt.ylabel('Metric Value')\n",
        "plt.legend()\n",
        "plt.show()\n",
        "\n",
        "print(\"Best k value based on Accuracy:\", best_k_acc)\n",
        "print(\"Best k value based on F1 Score:\", best_k_f1)\n"
      ],
      "metadata": {
        "colab": {
          "base_uri": "https://localhost:8080/",
          "height": 507
        },
        "id": "mtNpy_mgUi-2",
        "outputId": "d1734c93-8206-4034-a7a1-ba1a179ac7c1"
      },
      "execution_count": 47,
      "outputs": [
        {
          "output_type": "display_data",
          "data": {
            "text/plain": [
              "<Figure size 640x480 with 1 Axes>"
            ],
            "image/png": "[encoded data removed]"
          },
          "metadata": {}
        },
        {
          "output_type": "stream",
          "name": "stdout",
          "text": [
            "Best k value based on Accuracy: 5\n",
            "Best k value based on F1 Score: 15\n"
          ]
        }
      ]
    },
    {
      "cell_type": "code",
      "source": [
        "from sklearn.neighbors import KNeighborsClassifier\n",
        "from sklearn.metrics import accuracy_score, precision_score, recall_score, f1_score\n",
        "from sklearn.model_selection import train_test_split\n",
        "\n",
        "\n",
        "\n",
        "# Separate features and target variable\n",
        "X = parkinsonsds.drop(columns=['status'])\n",
        "y = parkinsonsds['status']\n",
        "\n",
        "# Split the dataset into training and testing sets\n",
        "X_train, X_test, y_train, y_test = train_test_split(X, y, test_size=0.2, random_state=42)\n",
        "\n",
        "# Apply KNN with k = 15\n",
        "knn_model_15 = KNeighborsClassifier(n_neighbors=15)\n",
        "knn_model_15.fit(X_train, y_train)\n",
        "y_pred_15 = knn_model_15.predict(X_test)\n",
        "\n",
        "# Calculate evaluation metrics for k = 15\n",
        "accuracy_15 = accuracy_score(y_test, y_pred_15)\n",
        "precision_15 = precision_score(y_test, y_pred_15)\n",
        "recall_15 = recall_score(y_test, y_pred_15)\n",
        "f1_15 = f1_score(y_test, y_pred_15)\n",
        "\n",
        "# Display the metrics for k = 15\n",
        "print(\"Metrics for k = 15:\")\n",
        "print(\"Accuracy:\", accuracy_15)\n",
        "print(\"Precision:\", precision_15)\n",
        "print(\"Recall:\", recall_15)\n",
        "print(\"F1 Score:\", f1_15)\n"
      ],
      "metadata": {
        "colab": {
          "base_uri": "https://localhost:8080/"
        },
        "id": "kbnsY4yyVcTs",
        "outputId": "e49beeab-aabc-4f18-f1a0-15774ee4ca9c"
      },
      "execution_count": 48,
      "outputs": [
        {
          "output_type": "stream",
          "name": "stdout",
          "text": [
            "Metrics for k = 15:\n",
            "Accuracy: 0.8205128205128205\n",
            "Precision: 0.8571428571428571\n",
            "Recall: 0.9375\n",
            "F1 Score: 0.8955223880597014\n"
          ]
        }
      ]
    },
    {
      "cell_type": "code",
      "source": [
        "#decision tree classifier\n",
        "from sklearn.tree import DecisionTreeClassifier\n",
        "from sklearn.metrics import accuracy_score, precision_score, recall_score, f1_score\n",
        "from sklearn.model_selection import train_test_split\n",
        "\n",
        "# Assuming parkinsons_preprocessed is your preprocessed dataset\n",
        "\n",
        "# Separate features and target variable\n",
        "X = parkinsonsds.drop(columns=['status'])\n",
        "y = parkinsonsds['status']\n",
        "\n",
        "# Split the dataset into training and testing sets\n",
        "X_train, X_test, y_train, y_test = train_test_split(X, y, test_size=0.2, random_state=42)\n",
        "\n",
        "# Apply Decision Tree classifier\n",
        "dt_model = DecisionTreeClassifier(random_state=42)\n",
        "dt_model.fit(X_train, y_train)\n",
        "y_pred_dt = dt_model.predict(X_test)\n",
        "\n",
        "# Calculate evaluation metrics for Decision Tree\n",
        "accuracy_dt = accuracy_score(y_test, y_pred_dt)\n",
        "precision_dt = precision_score(y_test, y_pred_dt)\n",
        "recall_dt = recall_score(y_test, y_pred_dt)\n",
        "f1_dt = f1_score(y_test, y_pred_dt)\n",
        "\n",
        "# Display the metrics for Decision Tree\n",
        "print(\"Metrics for Decision Tree:\")\n",
        "print(\"Accuracy:\", accuracy_dt)\n",
        "print(\"Precision:\", precision_dt)\n",
        "print(\"Recall:\", recall_dt)\n",
        "print(\"F1 Score:\", f1_dt)\n"
      ],
      "metadata": {
        "colab": {
          "base_uri": "https://localhost:8080/"
        },
        "id": "tQjy6ZgGV4PO",
        "outputId": "d6d48553-2ec6-4a88-f9dc-766d4461a890"
      },
      "execution_count": 49,
      "outputs": [
        {
          "output_type": "stream",
          "name": "stdout",
          "text": [
            "Metrics for Decision Tree:\n",
            "Accuracy: 0.9230769230769231\n",
            "Precision: 0.9393939393939394\n",
            "Recall: 0.96875\n",
            "F1 Score: 0.9538461538461539\n"
          ]
        }
      ]
    },
    {
      "cell_type": "code",
      "source": [
        "from sklearn.ensemble import RandomForestClassifier\n",
        "from sklearn.metrics import accuracy_score, precision_score, recall_score, f1_score\n",
        "from sklearn.model_selection import train_test_split\n",
        "\n",
        "# Assuming parkinsons_preprocessed is your preprocessed dataset\n",
        "\n",
        "# Separate features and target variable\n",
        "X = parkinsonsds.drop(columns=['status'])\n",
        "y = parkinsonsds['status']\n",
        "\n",
        "# Split the dataset into training and testing sets\n",
        "X_train, X_test, y_train, y_test = train_test_split(X, y, test_size=0.2, random_state=42)\n",
        "\n",
        "# Apply Random Forest classifier\n",
        "rf_model = RandomForestClassifier(random_state=42)\n",
        "rf_model.fit(X_train, y_train)\n",
        "y_pred_rf = rf_model.predict(X_test)\n",
        "\n",
        "# Calculate evaluation metrics for Random Forest\n",
        "accuracy_rf = accuracy_score(y_test, y_pred_rf)\n",
        "precision_rf = precision_score(y_test, y_pred_rf)\n",
        "recall_rf = recall_score(y_test, y_pred_rf)\n",
        "f1_rf = f1_score(y_test, y_pred_rf)\n",
        "\n",
        "# Display the metrics for Random Forest\n",
        "print(\"Metrics for Random Forest:\")\n",
        "print(\"Accuracy:\", accuracy_rf)\n",
        "print(\"Precision:\", precision_rf)\n",
        "print(\"Recall:\", recall_rf)\n",
        "print(\"F1 Score:\", f1_rf)\n"
      ],
      "metadata": {
        "colab": {
          "base_uri": "https://localhost:8080/"
        },
        "id": "IBfbh2r5WTAA",
        "outputId": "1a298af5-4ed2-46e5-f625-56f16e54eb2f"
      },
      "execution_count": 50,
      "outputs": [
        {
          "output_type": "stream",
          "name": "stdout",
          "text": [
            "Metrics for Random Forest:\n",
            "Accuracy: 0.9487179487179487\n",
            "Precision: 0.9411764705882353\n",
            "Recall: 1.0\n",
            "F1 Score: 0.9696969696969697\n"
          ]
        }
      ]
    },
    {
      "cell_type": "code",
      "source": [
        "from sklearn.svm import SVC\n",
        "from sklearn.metrics import accuracy_score, precision_score, recall_score, f1_score\n",
        "from sklearn.model_selection import train_test_split\n",
        "\n",
        "\n",
        "\n",
        "# Separate features and target variable\n",
        "X = parkinsonsds.drop(columns=['status'])\n",
        "y = parkinsonsds['status']\n",
        "\n",
        "# Split the dataset into training and testing sets\n",
        "X_train, X_test, y_train, y_test = train_test_split(X, y, test_size=0.2, random_state=42)\n",
        "\n",
        "# Apply SVM classifier\n",
        "svm_model = SVC(random_state=42)\n",
        "svm_model.fit(X_train, y_train)\n",
        "y_pred_svm = svm_model.predict(X_test)\n",
        "\n",
        "# Calculate evaluation metrics for SVM\n",
        "accuracy_svm = accuracy_score(y_test, y_pred_svm)\n",
        "precision_svm = precision_score(y_test, y_pred_svm)\n",
        "recall_svm = recall_score(y_test, y_pred_svm)\n",
        "f1_svm = f1_score(y_test, y_pred_svm)\n",
        "\n",
        "# Display the metrics for SVM\n",
        "print(\"Metrics for SVM:\")\n",
        "print(\"Accuracy:\", accuracy_svm)\n",
        "print(\"Precision:\", precision_svm)\n",
        "print(\"Recall:\", recall_svm)\n",
        "print(\"F1 Score:\", f1_svm)\n"
      ],
      "metadata": {
        "colab": {
          "base_uri": "https://localhost:8080/"
        },
        "id": "S6bZB2DQWjzV",
        "outputId": "ee85698a-90bb-4db2-8fb4-8131929df168"
      },
      "execution_count": 51,
      "outputs": [
        {
          "output_type": "stream",
          "name": "stdout",
          "text": [
            "Metrics for SVM:\n",
            "Accuracy: 0.8461538461538461\n",
            "Precision: 0.8611111111111112\n",
            "Recall: 0.96875\n",
            "F1 Score: 0.911764705882353\n"
          ]
        }
      ]
    },
    {
      "cell_type": "code",
      "source": [
        "\n",
        "from sklearn.linear_model import LogisticRegression\n",
        "from sklearn.metrics import accuracy_score, precision_score, recall_score, f1_score\n",
        "from sklearn.model_selection import train_test_split\n",
        "\n",
        "# Separate features and target variable\n",
        "X = parkinsonsds.drop(columns=['status'])\n",
        "y = parkinsonsds['status']\n",
        "\n",
        "# Split the dataset into training and testing sets\n",
        "X_train, X_test, y_train, y_test = train_test_split(X, y, test_size=0.2, random_state=42)\n",
        "\n",
        "# Apply Logistic Regression\n",
        "lr_model = LogisticRegression(random_state=42)\n",
        "lr_model.fit(X_train, y_train)\n",
        "y_pred_lr = lr_model.predict(X_test)\n",
        "\n",
        "# Calculate evaluation metrics for Logistic Regression\n",
        "accuracy_lr = accuracy_score(y_test, y_pred_lr)\n",
        "precision_lr = precision_score(y_test, y_pred_lr)\n",
        "recall_lr = recall_score(y_test, y_pred_lr)\n",
        "f1_lr = f1_score(y_test, y_pred_lr)\n",
        "\n",
        "# Display the metrics for Logistic Regression\n",
        "print(\"Metrics for Logistic Regression:\")\n",
        "print(\"Accuracy:\", accuracy_lr)\n",
        "print(\"Precision:\", precision_lr)\n",
        "print(\"Recall:\", recall_lr)\n",
        "print(\"F1 Score:\", f1_lr)\n"
      ],
      "metadata": {
        "colab": {
          "base_uri": "https://localhost:8080/"
        },
        "id": "bD0OV2bwWyR3",
        "outputId": "2f7b15d9-b4c0-4527-d021-6637f5b3f4bc"
      },
      "execution_count": 52,
      "outputs": [
        {
          "output_type": "stream",
          "name": "stdout",
          "text": [
            "Metrics for Logistic Regression:\n",
            "Accuracy: 0.8974358974358975\n",
            "Precision: 0.8888888888888888\n",
            "Recall: 1.0\n",
            "F1 Score: 0.9411764705882353\n"
          ]
        },
        {
          "output_type": "stream",
          "name": "stderr",
          "text": [
            "/usr/local/lib/python3.10/dist-packages/sklearn/linear_model/_logistic.py:458: ConvergenceWarning: lbfgs failed to converge (status=1):\n",
            "STOP: TOTAL NO. of ITERATIONS REACHED LIMIT.\n",
            "\n",
            "Increase the number of iterations (max_iter) or scale the data as shown in:\n",
            "    https://scikit-learn.org/stable/modules/preprocessing.html\n",
            "Please also refer to the documentation for alternative solver options:\n",
            "    https://scikit-learn.org/stable/modules/linear_model.html#logistic-regression\n",
            "  n_iter_i = _check_optimize_result(\n"
          ]
        }
      ]
    },
    {
      "cell_type": "code",
      "source": [
        "from sklearn.ensemble import BaggingClassifier\n",
        "from sklearn.neighbors import KNeighborsClassifier\n",
        "from sklearn.metrics import accuracy_score, precision_score, recall_score, f1_score\n",
        "from sklearn.model_selection import train_test_split\n",
        "\n",
        "# Separate features and target variable\n",
        "X = parkinsonsds.drop(columns=['status'])\n",
        "y = parkinsonsds['status']\n",
        "\n",
        "# Split the dataset into training and testing sets\n",
        "X_train, X_test, y_train, y_test = train_test_split(X, y, test_size=0.2, random_state=42)\n",
        "\n",
        "# Apply Bagging with k-Nearest Neighbors\n",
        "knn_model = KNeighborsClassifier()\n",
        "bagging_knn_model = BaggingClassifier(base_estimator=knn_model, random_state=42)\n",
        "bagging_knn_model.fit(X_train, y_train)\n",
        "y_pred_bagging_knn = bagging_knn_model.predict(X_test)\n",
        "\n",
        "# Calculate evaluation metrics for Bagging with k-Nearest Neighbors\n",
        "accuracy_bagging_knn = accuracy_score(y_test, y_pred_bagging_knn)\n",
        "precision_bagging_knn = precision_score(y_test, y_pred_bagging_knn)\n",
        "recall_bagging_knn = recall_score(y_test, y_pred_bagging_knn)\n",
        "f1_bagging_knn = f1_score(y_test, y_pred_bagging_knn)\n",
        "\n",
        "# Display the metrics for Bagging with k-Nearest Neighbors\n",
        "print(\"Metrics for Bagging with k-Nearest Neighbors:\")\n",
        "print(\"Accuracy:\", accuracy_bagging_knn)\n",
        "print(\"Precision:\", precision_bagging_knn)\n",
        "print(\"Recall:\", recall_bagging_knn)\n",
        "print(\"F1 Score:\", f1_bagging_knn)\n",
        "\n"
      ],
      "metadata": {
        "id": "CJq--b0IxcHY",
        "colab": {
          "base_uri": "https://localhost:8080/"
        },
        "outputId": "9f1db99d-7ea0-41a2-f838-83792d6043cd"
      },
      "execution_count": 53,
      "outputs": [
        {
          "output_type": "stream",
          "name": "stdout",
          "text": [
            "Metrics for Bagging with k-Nearest Neighbors:\n",
            "Accuracy: 0.8205128205128205\n",
            "Precision: 0.8787878787878788\n",
            "Recall: 0.90625\n",
            "F1 Score: 0.8923076923076922\n"
          ]
        },
        {
          "output_type": "stream",
          "name": "stderr",
          "text": [
            "/usr/local/lib/python3.10/dist-packages/sklearn/ensemble/_base.py:166: FutureWarning: `base_estimator` was renamed to `estimator` in version 1.2 and will be removed in 1.4.\n",
            "  warnings.warn(\n"
          ]
        }
      ]
    },
    {
      "cell_type": "code",
      "source": [
        "from sklearn.ensemble import BaggingClassifier\n",
        "from sklearn.tree import DecisionTreeClassifier\n",
        "from sklearn.metrics import accuracy_score, precision_score, recall_score, f1_score\n",
        "from sklearn.model_selection import train_test_split\n",
        "\n",
        "# Separate features and target variable\n",
        "X = parkinsonsds.drop(columns=['status'])\n",
        "y = parkinsonsds['status']\n",
        "\n",
        "# Split the dataset into training and testing sets\n",
        "X_train, X_test, y_train, y_test = train_test_split(X, y, test_size=0.2, random_state=42)\n",
        "\n",
        "# Apply Bagging with Decision Trees\n",
        "dt_model = DecisionTreeClassifier(random_state=42)\n",
        "bagging_dt_model = BaggingClassifier(base_estimator=dt_model, random_state=42)\n",
        "bagging_dt_model.fit(X_train, y_train)\n",
        "y_pred_bagging_dt = bagging_dt_model.predict(X_test)\n",
        "\n",
        "# Calculate evaluation metrics for Bagging with Decision Trees\n",
        "accuracy_bagging_dt = accuracy_score(y_test, y_pred_bagging_dt)\n",
        "precision_bagging_dt = precision_score(y_test, y_pred_bagging_dt)\n",
        "recall_bagging_dt = recall_score(y_test, y_pred_bagging_dt)\n",
        "f1_bagging_dt = f1_score(y_test, y_pred_bagging_dt)\n",
        "\n",
        "# Display the metrics for Bagging with Decision Trees\n",
        "print(\"Metrics for Bagging with Decision Trees:\")\n",
        "print(\"Accuracy:\", accuracy_bagging_dt)\n",
        "print(\"Precision:\", precision_bagging_dt)\n",
        "print(\"Recall:\", recall_bagging_dt)\n",
        "print(\"F1 Score:\", f1_bagging_dt)\n"
      ],
      "metadata": {
        "colab": {
          "base_uri": "https://localhost:8080/"
        },
        "id": "1sQShkBO3UOq",
        "outputId": "11c3c076-a4d3-4097-ce8f-8ddea2532d42"
      },
      "execution_count": 54,
      "outputs": [
        {
          "output_type": "stream",
          "name": "stdout",
          "text": [
            "Metrics for Bagging with Decision Trees:\n",
            "Accuracy: 0.8974358974358975\n",
            "Precision: 0.9375\n",
            "Recall: 0.9375\n",
            "F1 Score: 0.9375\n"
          ]
        },
        {
          "output_type": "stream",
          "name": "stderr",
          "text": [
            "/usr/local/lib/python3.10/dist-packages/sklearn/ensemble/_base.py:166: FutureWarning: `base_estimator` was renamed to `estimator` in version 1.2 and will be removed in 1.4.\n",
            "  warnings.warn(\n"
          ]
        }
      ]
    },
    {
      "cell_type": "code",
      "source": [
        "import tensorflow as tf\n",
        "from tensorflow.keras.models import Sequential\n",
        "from tensorflow.keras.layers import Dense\n",
        "from sklearn.model_selection import train_test_split\n",
        "from sklearn.metrics import accuracy_score, precision_score, recall_score, f1_score\n",
        "from sklearn.preprocessing import StandardScaler\n",
        "\n",
        "# Separate features and target variable\n",
        "X = parkinsonsds.drop(columns=['status'])\n",
        "y = parkinsonsds['status']\n",
        "\n",
        "# Split the dataset into training and testing sets\n",
        "X_train, X_test, y_train, y_test = train_test_split(X, y, test_size=0.2, random_state=42)\n",
        "\n",
        "# Standardize the data\n",
        "scaler = StandardScaler()\n",
        "X_train_scaled = scaler.fit_transform(X_train)\n",
        "X_test_scaled = scaler.transform(X_test)\n",
        "\n",
        "# Build a simple neural network model\n",
        "model = Sequential()\n",
        "model.add(Dense(64, activation='relu', input_dim=X_train.shape[1]))\n",
        "model.add(Dense(32, activation='relu'))\n",
        "model.add(Dense(1, activation='sigmoid'))\n",
        "\n",
        "# Compile the model\n",
        "model.compile(optimizer='adam', loss='binary_crossentropy', metrics=['accuracy'])\n",
        "\n",
        "# Train the model\n",
        "model.fit(X_train_scaled, y_train, epochs=10, batch_size=32, validation_split=0.2)\n",
        "\n",
        "# Make predictions on the test set\n",
        "y_pred_nn = model.predict(X_test_scaled)\n",
        "y_pred_nn = [1 if pred > 0.5 else 0 for pred in y_pred_nn]\n",
        "\n",
        "# Calculate evaluation metrics for the neural network\n",
        "accuracy_nn = accuracy_score(y_test, y_pred_nn)\n",
        "precision_nn = precision_score(y_test, y_pred_nn)\n",
        "recall_nn = recall_score(y_test, y_pred_nn)\n",
        "f1_nn = f1_score(y_test, y_pred_nn)\n",
        "\n",
        "# Display the metrics for the neural network\n",
        "print(\"Metrics for Neural Network:\")\n",
        "print(\"Accuracy:\", accuracy_nn)\n",
        "print(\"Precision:\", precision_nn)\n",
        "print(\"Recall:\", recall_nn)\n",
        "print(\"F1 Score:\", f1_nn)\n"
      ],
      "metadata": {
        "colab": {
          "base_uri": "https://localhost:8080/"
        },
        "id": "OIu8H4uY3t4q",
        "outputId": "c490f6a2-53c6-47eb-cae1-08832f15333f"
      },
      "execution_count": 55,
      "outputs": [
        {
          "output_type": "stream",
          "name": "stdout",
          "text": [
            "Epoch 1/10\n",
            "4/4 [==============================] - 2s 125ms/step - loss: 0.7280 - accuracy: 0.4194 - val_loss: 0.6541 - val_accuracy: 0.5000\n",
            "Epoch 2/10\n",
            "4/4 [==============================] - 0s 25ms/step - loss: 0.6288 - accuracy: 0.6290 - val_loss: 0.5764 - val_accuracy: 0.6562\n",
            "Epoch 3/10\n",
            "4/4 [==============================] - 0s 24ms/step - loss: 0.5539 - accuracy: 0.7661 - val_loss: 0.5247 - val_accuracy: 0.7188\n",
            "Epoch 4/10\n",
            "4/4 [==============================] - 0s 26ms/step - loss: 0.4985 - accuracy: 0.8145 - val_loss: 0.4862 - val_accuracy: 0.7812\n",
            "Epoch 5/10\n",
            "4/4 [==============================] - 0s 27ms/step - loss: 0.4571 - accuracy: 0.8548 - val_loss: 0.4575 - val_accuracy: 0.7812\n",
            "Epoch 6/10\n",
            "4/4 [==============================] - 0s 20ms/step - loss: 0.4228 - accuracy: 0.8548 - val_loss: 0.4344 - val_accuracy: 0.8125\n",
            "Epoch 7/10\n",
            "4/4 [==============================] - 0s 25ms/step - loss: 0.3954 - accuracy: 0.8790 - val_loss: 0.4169 - val_accuracy: 0.8125\n",
            "Epoch 8/10\n",
            "4/4 [==============================] - 0s 25ms/step - loss: 0.3699 - accuracy: 0.9032 - val_loss: 0.4030 - val_accuracy: 0.8125\n",
            "Epoch 9/10\n",
            "4/4 [==============================] - 0s 32ms/step - loss: 0.3497 - accuracy: 0.9032 - val_loss: 0.3906 - val_accuracy: 0.8438\n",
            "Epoch 10/10\n",
            "4/4 [==============================] - 0s 18ms/step - loss: 0.3327 - accuracy: 0.9032 - val_loss: 0.3809 - val_accuracy: 0.8438\n",
            "2/2 [==============================] - 0s 6ms/step\n",
            "Metrics for Neural Network:\n",
            "Accuracy: 0.8461538461538461\n",
            "Precision: 0.8823529411764706\n",
            "Recall: 0.9375\n",
            "F1 Score: 0.9090909090909091\n"
          ]
        }
      ]
    },
    {
      "cell_type": "code",
      "source": [
        "import tensorflow as tf\n",
        "from tensorflow.keras.models import Sequential\n",
        "from tensorflow.keras.layers import Dense\n",
        "from sklearn.model_selection import train_test_split\n",
        "from sklearn.metrics import accuracy_score, precision_score, recall_score, f1_score\n",
        "from sklearn.preprocessing import StandardScaler\n",
        "\n",
        "# Separate features and target variable\n",
        "X = parkinsonsds.drop(columns=['status'])\n",
        "y = parkinsonsds['status']\n",
        "\n",
        "# Split the dataset into training and testing sets\n",
        "X_train, X_test, y_train, y_test = train_test_split(X, y, test_size=0.2, random_state=42)\n",
        "\n",
        "# Standardize the data\n",
        "scaler = StandardScaler()\n",
        "X_train_scaled = scaler.fit_transform(X_train)\n",
        "X_test_scaled = scaler.transform(X_test)\n",
        "\n",
        "# Build a simple neural network model with different activation functions\n",
        "model = Sequential()\n",
        "model.add(Dense(64, activation='relu', input_dim=X_train.shape[1]))\n",
        "model.add(Dense(32, activation='tanh'))  # Change activation function to tanh\n",
        "model.add(Dense(1, activation='sigmoid'))\n",
        "\n",
        "# Compile the model\n",
        "model.compile(optimizer='adam', loss='binary_crossentropy', metrics=['accuracy'])\n",
        "\n",
        "# Train the model\n",
        "model.fit(X_train_scaled, y_train, epochs=10, batch_size=32, validation_split=0.2)\n",
        "\n",
        "# Make predictions on the test set\n",
        "y_pred_nn = model.predict(X_test_scaled)\n",
        "y_pred_nn = [1 if pred > 0.5 else 0 for pred in y_pred_nn]\n",
        "\n",
        "# Calculate evaluation metrics for the neural network\n",
        "accuracy_nn = accuracy_score(y_test, y_pred_nn)\n",
        "precision_nn = precision_score(y_test, y_pred_nn)\n",
        "recall_nn = recall_score(y_test, y_pred_nn)\n",
        "f1_nn = f1_score(y_test, y_pred_nn)\n",
        "\n",
        "# Display the metrics for the neural network\n",
        "print(\"Metrics for Neural Network with tanh activation:\")\n",
        "print(\"Accuracy:\", accuracy_nn)\n",
        "print(\"Precision:\", precision_nn)\n",
        "print(\"Recall:\", recall_nn)\n",
        "print(\"F1 Score:\", f1_nn)\n"
      ],
      "metadata": {
        "colab": {
          "base_uri": "https://localhost:8080/"
        },
        "id": "F4OK73I_4Jw5",
        "outputId": "db07d026-3325-4cec-a33d-42f7e446db2a"
      },
      "execution_count": 56,
      "outputs": [
        {
          "output_type": "stream",
          "name": "stdout",
          "text": [
            "Epoch 1/10\n",
            "4/4 [==============================] - 1s 70ms/step - loss: 0.8065 - accuracy: 0.4597 - val_loss: 0.8461 - val_accuracy: 0.4062\n",
            "Epoch 2/10\n",
            "4/4 [==============================] - 0s 13ms/step - loss: 0.6587 - accuracy: 0.6290 - val_loss: 0.6695 - val_accuracy: 0.5938\n",
            "Epoch 3/10\n",
            "4/4 [==============================] - 0s 13ms/step - loss: 0.5474 - accuracy: 0.7500 - val_loss: 0.5577 - val_accuracy: 0.6562\n",
            "Epoch 4/10\n",
            "4/4 [==============================] - 0s 13ms/step - loss: 0.4710 - accuracy: 0.7823 - val_loss: 0.4920 - val_accuracy: 0.7188\n",
            "Epoch 5/10\n",
            "4/4 [==============================] - 0s 21ms/step - loss: 0.4249 - accuracy: 0.7984 - val_loss: 0.4543 - val_accuracy: 0.7188\n",
            "Epoch 6/10\n",
            "4/4 [==============================] - 0s 14ms/step - loss: 0.3910 - accuracy: 0.8306 - val_loss: 0.4298 - val_accuracy: 0.7188\n",
            "Epoch 7/10\n",
            "4/4 [==============================] - 0s 14ms/step - loss: 0.3687 - accuracy: 0.8548 - val_loss: 0.4135 - val_accuracy: 0.7500\n",
            "Epoch 8/10\n",
            "4/4 [==============================] - 0s 13ms/step - loss: 0.3473 - accuracy: 0.8710 - val_loss: 0.4021 - val_accuracy: 0.7500\n",
            "Epoch 9/10\n",
            "4/4 [==============================] - 0s 13ms/step - loss: 0.3324 - accuracy: 0.8710 - val_loss: 0.3917 - val_accuracy: 0.7500\n",
            "Epoch 10/10\n",
            "4/4 [==============================] - 0s 13ms/step - loss: 0.3179 - accuracy: 0.8790 - val_loss: 0.3821 - val_accuracy: 0.7500\n",
            "2/2 [==============================] - 0s 10ms/step\n",
            "Metrics for Neural Network with tanh activation:\n",
            "Accuracy: 0.8461538461538461\n",
            "Precision: 0.8823529411764706\n",
            "Recall: 0.9375\n",
            "F1 Score: 0.9090909090909091\n"
          ]
        }
      ]
    },
    {
      "cell_type": "code",
      "source": [
        "from sklearn.linear_model import Perceptron\n",
        "from sklearn.model_selection import cross_val_predict\n",
        "from sklearn.metrics import accuracy_score, precision_score, recall_score, f1_score\n",
        "from sklearn.preprocessing import StandardScaler\n",
        "from sklearn.model_selection import cross_val_score\n",
        "import numpy as np\n",
        "\n",
        "# Separate features and target variable\n",
        "X = parkinsonsds.drop(columns=['status'])\n",
        "y = parkinsonsds['status']\n",
        "\n",
        "# Standardize the data\n",
        "scaler = StandardScaler()\n",
        "X_scaled = scaler.fit_transform(X)\n",
        "\n",
        "# Initialize the Perceptron\n",
        "perceptron_model = Perceptron(random_state=42)\n",
        "\n",
        "# Perform cross-validation\n",
        "y_pred_perceptron_cv = cross_val_predict(perceptron_model, X_scaled, y, cv=5)\n",
        "\n",
        "# Calculate evaluation metrics for the Perceptron\n",
        "accuracy_perceptron = accuracy_score(y, y_pred_perceptron_cv)\n",
        "precision_perceptron = precision_score(y, y_pred_perceptron_cv)\n",
        "recall_perceptron = recall_score(y, y_pred_perceptron_cv)\n",
        "f1_perceptron = f1_score(y, y_pred_perceptron_cv)\n",
        "\n",
        "# Display the metrics for the Perceptron\n",
        "print(\"Metrics for Perceptron with cross-validation:\")\n",
        "print(\"Accuracy:\", accuracy_perceptron)\n",
        "print(\"Precision:\", precision_perceptron)\n",
        "print(\"Recall:\", recall_perceptron)\n",
        "print(\"F1 Score:\", f1_perceptron)\n"
      ],
      "metadata": {
        "colab": {
          "base_uri": "https://localhost:8080/"
        },
        "id": "OgvKUxqI4YQ1",
        "outputId": "6b21fe52-07c4-4675-a4fd-3e8454e6670b"
      },
      "execution_count": 57,
      "outputs": [
        {
          "output_type": "stream",
          "name": "stdout",
          "text": [
            "Metrics for Perceptron with cross-validation:\n",
            "Accuracy: 0.7076923076923077\n",
            "Precision: 0.7960526315789473\n",
            "Recall: 0.8231292517006803\n",
            "F1 Score: 0.8093645484949833\n"
          ]
        }
      ]
    },
    {
      "cell_type": "code",
      "source": [
        "from sklearn.naive_bayes import GaussianNB\n",
        "from sklearn.model_selection import cross_val_predict\n",
        "from sklearn.metrics import accuracy_score, precision_score, recall_score, f1_score\n",
        "from sklearn.preprocessing import StandardScaler\n",
        "from sklearn.model_selection import cross_val_score\n",
        "import numpy as np\n",
        "\n",
        "# Separate features and target variable\n",
        "X = parkinsonsds.drop(columns=['status'])\n",
        "y = parkinsonsds['status']\n",
        "\n",
        "# Standardize the data\n",
        "scaler = StandardScaler()\n",
        "X_scaled = scaler.fit_transform(X)\n",
        "\n",
        "# Initialize the Gaussian Naive Bayes model\n",
        "nb_model = GaussianNB()\n",
        "\n",
        "# Perform cross-validation\n",
        "y_pred_nb_cv = cross_val_predict(nb_model, X_scaled, y, cv=5)\n",
        "\n",
        "# Calculate evaluation metrics for Naive Bayes\n",
        "accuracy_nb = accuracy_score(y, y_pred_nb_cv)\n",
        "precision_nb = precision_score(y, y_pred_nb_cv)\n",
        "recall_nb = recall_score(y, y_pred_nb_cv)\n",
        "f1_nb = f1_score(y, y_pred_nb_cv)\n",
        "\n",
        "# Display the metrics for Naive Bayes\n",
        "print(\"Metrics for Naive Bayes with cross-validation:\")\n",
        "print(\"Accuracy:\", accuracy_nb)\n",
        "print(\"Precision:\", precision_nb)\n",
        "print(\"Recall:\", recall_nb)\n",
        "print(\"F1 Score:\", f1_nb)\n"
      ],
      "metadata": {
        "colab": {
          "base_uri": "https://localhost:8080/"
        },
        "id": "GZDk-FQt9PQ0",
        "outputId": "ad57a788-75d8-44c4-f307-5981c2cc1327"
      },
      "execution_count": 58,
      "outputs": [
        {
          "output_type": "stream",
          "name": "stdout",
          "text": [
            "Metrics for Naive Bayes with cross-validation:\n",
            "Accuracy: 0.6820512820512821\n",
            "Precision: 0.912621359223301\n",
            "Recall: 0.6394557823129252\n",
            "F1 Score: 0.7520000000000001\n"
          ]
        }
      ]
    },
    {
      "cell_type": "code",
      "source": [
        "from sklearn.naive_bayes import GaussianNB\n",
        "from sklearn.model_selection import cross_val_predict\n",
        "from sklearn.metrics import accuracy_score, precision_score, recall_score, f1_score\n",
        "from sklearn.preprocessing import StandardScaler\n",
        "from sklearn.model_selection import cross_val_score\n",
        "import numpy as np\n",
        "\n",
        "# Separate features and target variable\n",
        "X = parkinsonsds.drop(columns=['status'])\n",
        "y = parkinsonsds['status']\n",
        "\n",
        "# Standardize the data\n",
        "scaler = StandardScaler()\n",
        "X_scaled = scaler.fit_transform(X)\n",
        "\n",
        "# Initialize the Gaussian Naive Bayes model\n",
        "nb_model = GaussianNB()\n",
        "\n",
        "# Perform cross-validation\n",
        "y_pred_nb_cv = cross_val_predict(nb_model, X_scaled, y, cv=5)\n",
        "\n",
        "# Calculate evaluation metrics for Naive Bayes\n",
        "accuracy_nb = accuracy_score(y, y_pred_nb_cv)\n",
        "precision_nb = precision_score(y, y_pred_nb_cv)\n",
        "recall_nb = recall_score(y, y_pred_nb_cv)\n",
        "f1_nb = f1_score(y, y_pred_nb_cv)\n",
        "\n",
        "# Display the metrics for Naive Bayes\n",
        "print(\"Metrics for Naive Bayes with cross-validation:\")\n",
        "print(\"Accuracy:\", accuracy_nb)\n",
        "print(\"Precision:\", precision_nb)\n",
        "print(\"Recall:\", recall_nb)\n",
        "print(\"F1 Score:\", f1_nb)\n"
      ],
      "metadata": {
        "colab": {
          "base_uri": "https://localhost:8080/"
        },
        "id": "valjq7cQ9cRt",
        "outputId": "61549bd3-229f-4d90-eb9b-be6d0169b35d"
      },
      "execution_count": 59,
      "outputs": [
        {
          "output_type": "stream",
          "name": "stdout",
          "text": [
            "Metrics for Naive Bayes with cross-validation:\n",
            "Accuracy: 0.6820512820512821\n",
            "Precision: 0.912621359223301\n",
            "Recall: 0.6394557823129252\n",
            "F1 Score: 0.7520000000000001\n"
          ]
        }
      ]
    },
    {
      "cell_type": "code",
      "source": [
        "from sklearn.linear_model import Ridge\n",
        "from sklearn.model_selection import train_test_split\n",
        "from sklearn.metrics import mean_squared_error, r2_score\n",
        "from sklearn.preprocessing import StandardScaler\n",
        "\n",
        "# Separate features and target variable\n",
        "X = parkinsonsds.drop(columns=['status'])\n",
        "y = parkinsonsds['status']\n",
        "\n",
        "# Split the dataset into training and testing sets\n",
        "X_train, X_test, y_train, y_test = train_test_split(X, y, test_size=0.2, random_state=42)\n",
        "\n",
        "# Standardize the data\n",
        "scaler = StandardScaler()\n",
        "X_train_scaled = scaler.fit_transform(X_train)\n",
        "X_test_scaled = scaler.transform(X_test)\n",
        "\n",
        "# Initialize the Ridge Regression model\n",
        "ridge_model = Ridge(alpha=1.0)  # You can adjust the alpha parameter based on your requirements\n",
        "\n",
        "# Fit the model to the training data\n",
        "ridge_model.fit(X_train_scaled, y_train)\n",
        "\n",
        "# Make predictions on the test set\n",
        "y_pred_ridge = ridge_model.predict(X_test_scaled)\n",
        "\n",
        "# Evaluate the Ridge Regression model\n",
        "mse_ridge = mean_squared_error(y_test, y_pred_ridge)\n",
        "r2_ridge = r2_score(y_test, y_pred_ridge)\n",
        "\n",
        "# Display the evaluation metrics for Ridge Regression\n",
        "print(\"Evaluation metrics for Ridge Regression:\")\n",
        "print(\"Mean Squared Error:\", mse_ridge)\n",
        "print(\"R^2 Score:\", r2_ridge)\n"
      ],
      "metadata": {
        "colab": {
          "base_uri": "https://localhost:8080/"
        },
        "id": "atMGd1qC_QQI",
        "outputId": "7bb07ed8-4f7e-4b4b-9ae3-4897a959116a"
      },
      "execution_count": 60,
      "outputs": [
        {
          "output_type": "stream",
          "name": "stdout",
          "text": [
            "Evaluation metrics for Ridge Regression:\n",
            "Mean Squared Error: 0.0986603225272626\n",
            "R^2 Score: 0.3300787921251498\n"
          ]
        }
      ]
    },
    {
      "cell_type": "code",
      "source": [
        "from xgboost import XGBClassifier\n",
        "from sklearn.model_selection import train_test_split\n",
        "from sklearn.metrics import accuracy_score, precision_score, recall_score, f1_score\n",
        "from sklearn.preprocessing import StandardScaler\n",
        "\n",
        "# Separate features and target variable\n",
        "X = parkinsonsds.drop(columns=['status'])\n",
        "y = parkinsonsds['status']\n",
        "\n",
        "# Split the dataset into training and testing sets\n",
        "X_train, X_test, y_train, y_test = train_test_split(X, y, test_size=0.2, random_state=42)\n",
        "\n",
        "# Standardize the data\n",
        "scaler = StandardScaler()\n",
        "X_train_scaled = scaler.fit_transform(X_train)\n",
        "X_test_scaled = scaler.transform(X_test)\n",
        "\n",
        "# Initialize the XGBoost Classifier\n",
        "xgb_model = XGBClassifier(random_state=42)\n",
        "\n",
        "# Fit the model to the training data\n",
        "xgb_model.fit(X_train_scaled, y_train)\n",
        "\n",
        "# Make predictions on the test set\n",
        "y_pred_xgb = xgb_model.predict(X_test_scaled)\n",
        "\n",
        "# Calculate evaluation metrics for XGBoost Classifier\n",
        "accuracy_xgb = accuracy_score(y_test, y_pred_xgb)\n",
        "precision_xgb = precision_score(y_test, y_pred_xgb)\n",
        "recall_xgb = recall_score(y_test, y_pred_xgb)\n",
        "f1_xgb = f1_score(y_test, y_pred_xgb)\n",
        "\n",
        "# Display the metrics for XGBoost Classifier\n",
        "print(\"Metrics for XGBoost Classifier:\")\n",
        "print(\"Accuracy:\", accuracy_xgb)\n",
        "print(\"Precision:\", precision_xgb)\n",
        "print(\"Recall:\", recall_xgb)\n",
        "print(\"F1 Score:\", f1_xgb)\n"
      ],
      "metadata": {
        "colab": {
          "base_uri": "https://localhost:8080/"
        },
        "id": "UQy00_gI_TqD",
        "outputId": "ac2291c6-8816-4260-f81d-8d4cca2d5efe"
      },
      "execution_count": 61,
      "outputs": [
        {
          "output_type": "stream",
          "name": "stdout",
          "text": [
            "Metrics for XGBoost Classifier:\n",
            "Accuracy: 0.9487179487179487\n",
            "Precision: 0.9411764705882353\n",
            "Recall: 1.0\n",
            "F1 Score: 0.9696969696969697\n"
          ]
        }
      ]
    },
    {
      "cell_type": "code",
      "source": [
        "import lightgbm as lgb\n",
        "from sklearn.model_selection import train_test_split\n",
        "from sklearn.metrics import accuracy_score, precision_score, recall_score, f1_score\n",
        "from sklearn.preprocessing import StandardScaler\n",
        "\n",
        "# Separate features and target variable\n",
        "X = parkinsonsds.drop(columns=['status'])\n",
        "y = parkinsonsds['status']\n",
        "\n",
        "# Split the dataset into training and testing sets\n",
        "X_train, X_test, y_train, y_test = train_test_split(X, y, test_size=0.2, random_state=42)\n",
        "\n",
        "# Standardize the data\n",
        "scaler = StandardScaler()\n",
        "X_train_scaled = scaler.fit_transform(X_train)\n",
        "X_test_scaled = scaler.transform(X_test)\n",
        "\n",
        "# Initialize the LightGBM Classifier\n",
        "lgb_model = lgb.LGBMClassifier(random_state=42)\n",
        "\n",
        "# Fit the model to the training data\n",
        "lgb_model.fit(X_train_scaled, y_train)\n",
        "\n",
        "# Make predictions on the test set\n",
        "y_pred_lgb = lgb_model.predict(X_test_scaled)\n",
        "\n",
        "# Calculate evaluation metrics for LightGBM Classifier\n",
        "accuracy_lgb = accuracy_score(y_test, y_pred_lgb)\n",
        "precision_lgb = precision_score(y_test, y_pred_lgb)\n",
        "recall_lgb = recall_score(y_test, y_pred_lgb)\n",
        "f1_lgb = f1_score(y_test, y_pred_lgb)\n",
        "\n",
        "# Display the metrics for LightGBM Classifier\n",
        "print(\"Metrics for LightGBM Classifier:\")\n",
        "print(\"Accuracy:\", accuracy_lgb)\n",
        "print(\"Precision:\", precision_lgb)\n",
        "print(\"Recall:\", recall_lgb)\n",
        "print(\"F1 Score:\", f1_lgb)\n"
      ],
      "metadata": {
        "colab": {
          "base_uri": "https://localhost:8080/"
        },
        "id": "wiJh6ZsX_lFe",
        "outputId": "6614a3b5-bef7-4bc6-cc0d-23562f79a029"
      },
      "execution_count": 62,
      "outputs": [
        {
          "output_type": "stream",
          "name": "stdout",
          "text": [
            "[LightGBM] [Info] Number of positive: 115, number of negative: 41\n",
            "[LightGBM] [Info] Auto-choosing row-wise multi-threading, the overhead of testing was 0.000323 seconds.\n",
            "You can set `force_row_wise=true` to remove the overhead.\n",
            "And if memory is not enough, you can set `force_col_wise=true`.\n",
            "[LightGBM] [Info] Total Bins 1128\n",
            "[LightGBM] [Info] Number of data points in the train set: 156, number of used features: 22\n",
            "[LightGBM] [Info] [binary:BoostFromScore]: pavg=0.737179 -> initscore=1.031360\n",
            "[LightGBM] [Info] Start training from score 1.031360\n",
            "[LightGBM] [Warning] No further splits with positive gain, best gain: -inf\n",
            "[LightGBM] [Warning] No further splits with positive gain, best gain: -inf\n",
            "[LightGBM] [Warning] No further splits with positive gain, best gain: -inf\n",
            "[LightGBM] [Warning] No further splits with positive gain, best gain: -inf\n",
            "[LightGBM] [Warning] No further splits with positive gain, best gain: -inf\n",
            "[LightGBM] [Warning] No further splits with positive gain, best gain: -inf\n",
            "[LightGBM] [Warning] No further splits with positive gain, best gain: -inf\n",
            "[LightGBM] [Warning] No further splits with positive gain, best gain: -inf\n",
            "[LightGBM] [Warning] No further splits with positive gain, best gain: -inf\n",
            "[LightGBM] [Warning] No further splits with positive gain, best gain: -inf\n",
            "[LightGBM] [Warning] No further splits with positive gain, best gain: -inf\n",
            "[LightGBM] [Warning] No further splits with positive gain, best gain: -inf\n",
            "[LightGBM] [Warning] No further splits with positive gain, best gain: -inf\n",
            "[LightGBM] [Warning] No further splits with positive gain, best gain: -inf\n",
            "[LightGBM] [Warning] No further splits with positive gain, best gain: -inf\n",
            "[LightGBM] [Warning] No further splits with positive gain, best gain: -inf\n",
            "[LightGBM] [Warning] No further splits with positive gain, best gain: -inf\n",
            "[LightGBM] [Warning] No further splits with positive gain, best gain: -inf\n",
            "[LightGBM] [Warning] No further splits with positive gain, best gain: -inf\n",
            "[LightGBM] [Warning] No further splits with positive gain, best gain: -inf\n",
            "[LightGBM] [Warning] No further splits with positive gain, best gain: -inf\n",
            "[LightGBM] [Warning] No further splits with positive gain, best gain: -inf\n",
            "[LightGBM] [Warning] No further splits with positive gain, best gain: -inf\n",
            "[LightGBM] [Warning] No further splits with positive gain, best gain: -inf\n",
            "[LightGBM] [Warning] No further splits with positive gain, best gain: -inf\n",
            "[LightGBM] [Warning] No further splits with positive gain, best gain: -inf\n",
            "[LightGBM] [Warning] No further splits with positive gain, best gain: -inf\n",
            "[LightGBM] [Warning] No further splits with positive gain, best gain: -inf\n",
            "[LightGBM] [Warning] No further splits with positive gain, best gain: -inf\n",
            "[LightGBM] [Warning] No further splits with positive gain, best gain: -inf\n",
            "[LightGBM] [Warning] No further splits with positive gain, best gain: -inf\n",
            "[LightGBM] [Warning] No further splits with positive gain, best gain: -inf\n",
            "[LightGBM] [Warning] No further splits with positive gain, best gain: -inf\n",
            "[LightGBM] [Warning] No further splits with positive gain, best gain: -inf\n",
            "[LightGBM] [Warning] No further splits with positive gain, best gain: -inf\n",
            "[LightGBM] [Warning] No further splits with positive gain, best gain: -inf\n",
            "[LightGBM] [Warning] No further splits with positive gain, best gain: -inf\n",
            "[LightGBM] [Warning] No further splits with positive gain, best gain: -inf\n",
            "[LightGBM] [Warning] No further splits with positive gain, best gain: -inf\n",
            "[LightGBM] [Warning] No further splits with positive gain, best gain: -inf\n",
            "[LightGBM] [Warning] No further splits with positive gain, best gain: -inf\n",
            "[LightGBM] [Warning] No further splits with positive gain, best gain: -inf\n",
            "[LightGBM] [Warning] No further splits with positive gain, best gain: -inf\n",
            "[LightGBM] [Warning] No further splits with positive gain, best gain: -inf\n",
            "[LightGBM] [Warning] No further splits with positive gain, best gain: -inf\n",
            "[LightGBM] [Warning] No further splits with positive gain, best gain: -inf\n",
            "[LightGBM] [Warning] No further splits with positive gain, best gain: -inf\n",
            "[LightGBM] [Warning] No further splits with positive gain, best gain: -inf\n",
            "[LightGBM] [Warning] No further splits with positive gain, best gain: -inf\n",
            "[LightGBM] [Warning] No further splits with positive gain, best gain: -inf\n",
            "[LightGBM] [Warning] No further splits with positive gain, best gain: -inf\n",
            "[LightGBM] [Warning] No further splits with positive gain, best gain: -inf\n",
            "[LightGBM] [Warning] No further splits with positive gain, best gain: -inf\n",
            "[LightGBM] [Warning] No further splits with positive gain, best gain: -inf\n",
            "[LightGBM] [Warning] No further splits with positive gain, best gain: -inf\n",
            "[LightGBM] [Warning] No further splits with positive gain, best gain: -inf\n",
            "[LightGBM] [Warning] No further splits with positive gain, best gain: -inf\n",
            "[LightGBM] [Warning] No further splits with positive gain, best gain: -inf\n",
            "[LightGBM] [Warning] No further splits with positive gain, best gain: -inf\n",
            "[LightGBM] [Warning] No further splits with positive gain, best gain: -inf\n",
            "[LightGBM] [Warning] No further splits with positive gain, best gain: -inf\n",
            "[LightGBM] [Warning] No further splits with positive gain, best gain: -inf\n",
            "[LightGBM] [Warning] No further splits with positive gain, best gain: -inf\n",
            "[LightGBM] [Warning] No further splits with positive gain, best gain: -inf\n",
            "[LightGBM] [Warning] No further splits with positive gain, best gain: -inf\n",
            "[LightGBM] [Warning] No further splits with positive gain, best gain: -inf\n",
            "[LightGBM] [Warning] No further splits with positive gain, best gain: -inf\n",
            "[LightGBM] [Warning] No further splits with positive gain, best gain: -inf\n",
            "[LightGBM] [Warning] No further splits with positive gain, best gain: -inf\n",
            "[LightGBM] [Warning] No further splits with positive gain, best gain: -inf\n",
            "[LightGBM] [Warning] No further splits with positive gain, best gain: -inf\n",
            "[LightGBM] [Warning] No further splits with positive gain, best gain: -inf\n",
            "[LightGBM] [Warning] No further splits with positive gain, best gain: -inf\n",
            "[LightGBM] [Warning] No further splits with positive gain, best gain: -inf\n",
            "[LightGBM] [Warning] No further splits with positive gain, best gain: -inf\n",
            "[LightGBM] [Warning] No further splits with positive gain, best gain: -inf\n",
            "[LightGBM] [Warning] No further splits with positive gain, best gain: -inf\n",
            "[LightGBM] [Warning] No further splits with positive gain, best gain: -inf\n",
            "[LightGBM] [Warning] No further splits with positive gain, best gain: -inf\n",
            "[LightGBM] [Warning] No further splits with positive gain, best gain: -inf\n",
            "[LightGBM] [Warning] No further splits with positive gain, best gain: -inf\n",
            "[LightGBM] [Warning] No further splits with positive gain, best gain: -inf\n",
            "[LightGBM] [Warning] No further splits with positive gain, best gain: -inf\n",
            "[LightGBM] [Warning] No further splits with positive gain, best gain: -inf\n",
            "[LightGBM] [Warning] No further splits with positive gain, best gain: -inf\n",
            "[LightGBM] [Warning] No further splits with positive gain, best gain: -inf\n",
            "[LightGBM] [Warning] No further splits with positive gain, best gain: -inf\n",
            "[LightGBM] [Warning] No further splits with positive gain, best gain: -inf\n",
            "[LightGBM] [Warning] No further splits with positive gain, best gain: -inf\n",
            "[LightGBM] [Warning] No further splits with positive gain, best gain: -inf\n",
            "[LightGBM] [Warning] No further splits with positive gain, best gain: -inf\n",
            "[LightGBM] [Warning] No further splits with positive gain, best gain: -inf\n",
            "[LightGBM] [Warning] No further splits with positive gain, best gain: -inf\n",
            "[LightGBM] [Warning] No further splits with positive gain, best gain: -inf\n",
            "[LightGBM] [Warning] No further splits with positive gain, best gain: -inf\n",
            "[LightGBM] [Warning] No further splits with positive gain, best gain: -inf\n",
            "[LightGBM] [Warning] No further splits with positive gain, best gain: -inf\n",
            "[LightGBM] [Warning] No further splits with positive gain, best gain: -inf\n",
            "[LightGBM] [Warning] No further splits with positive gain, best gain: -inf\n",
            "[LightGBM] [Warning] No further splits with positive gain, best gain: -inf\n",
            "Metrics for LightGBM Classifier:\n",
            "Accuracy: 0.9487179487179487\n",
            "Precision: 0.9411764705882353\n",
            "Recall: 1.0\n",
            "F1 Score: 0.9696969696969697\n"
          ]
        }
      ]
    },
    {
      "cell_type": "code",
      "source": [
        "from sklearn.discriminant_analysis import LinearDiscriminantAnalysis\n",
        "from sklearn.model_selection import train_test_split\n",
        "from sklearn.metrics import accuracy_score, precision_score, recall_score, f1_score\n",
        "from sklearn.preprocessing import StandardScaler\n",
        "\n",
        "# Separate features and target variable\n",
        "X = parkinsonsds.drop(columns=['status'])\n",
        "y = parkinsonsds['status']\n",
        "\n",
        "# Split the dataset into training and testing sets\n",
        "X_train, X_test, y_train, y_test = train_test_split(X, y, test_size=0.2, random_state=42)\n",
        "\n",
        "# Standardize the data\n",
        "scaler = StandardScaler()\n",
        "X_train_scaled = scaler.fit_transform(X_train)\n",
        "X_test_scaled = scaler.transform(X_test)\n",
        "\n",
        "# Initialize the LDA model\n",
        "lda_model = LinearDiscriminantAnalysis()\n",
        "\n",
        "# Fit the model to the training data\n",
        "lda_model.fit(X_train_scaled, y_train)\n",
        "\n",
        "# Make predictions on the test set\n",
        "y_pred_lda = lda_model.predict(X_test_scaled)\n",
        "\n",
        "# Calculate evaluation metrics for LDA\n",
        "accuracy_lda = accuracy_score(y_test, y_pred_lda)\n",
        "precision_lda = precision_score(y_test, y_pred_lda)\n",
        "recall_lda = recall_score(y_test, y_pred_lda)\n",
        "f1_lda = f1_score(y_test, y_pred_lda)\n",
        "\n",
        "# Display the metrics for LDA\n",
        "print(\"Metrics for Linear Discriminant Analysis (LDA):\")\n",
        "print(\"Accuracy:\", accuracy_lda)\n",
        "print(\"Precision:\", precision_lda)\n",
        "print(\"Recall:\", recall_lda)\n",
        "print(\"F1 Score:\", f1_lda)\n"
      ],
      "metadata": {
        "colab": {
          "base_uri": "https://localhost:8080/"
        },
        "id": "ScKHtaUGAOpK",
        "outputId": "9903ceab-6f0b-4992-a8cd-d77a2560ca76"
      },
      "execution_count": 63,
      "outputs": [
        {
          "output_type": "stream",
          "name": "stdout",
          "text": [
            "Metrics for Linear Discriminant Analysis (LDA):\n",
            "Accuracy: 0.8717948717948718\n",
            "Precision: 0.9090909090909091\n",
            "Recall: 0.9375\n",
            "F1 Score: 0.923076923076923\n"
          ]
        }
      ]
    },
    {
      "cell_type": "code",
      "source": [
        "from sklearn.discriminant_analysis import QuadraticDiscriminantAnalysis\n",
        "from sklearn.model_selection import train_test_split\n",
        "from sklearn.metrics import accuracy_score, precision_score, recall_score, f1_score\n",
        "from sklearn.preprocessing import StandardScaler\n",
        "\n",
        "# Separate features and target variable\n",
        "X = parkinsonsds.drop(columns=['status'])\n",
        "y = parkinsonsds['status']\n",
        "\n",
        "# Split the dataset into training and testing sets\n",
        "X_train, X_test, y_train, y_test = train_test_split(X, y, test_size=0.2, random_state=42)\n",
        "\n",
        "# Standardize the data\n",
        "scaler = StandardScaler()\n",
        "X_train_scaled = scaler.fit_transform(X_train)\n",
        "X_test_scaled = scaler.transform(X_test)\n",
        "\n",
        "# Initialize the QDA model\n",
        "qda_model = QuadraticDiscriminantAnalysis()\n",
        "\n",
        "# Fit the model to the training data\n",
        "qda_model.fit(X_train_scaled, y_train)\n",
        "\n",
        "# Make predictions on the test set\n",
        "y_pred_qda = qda_model.predict(X_test_scaled)\n",
        "\n",
        "# Calculate evaluation metrics for QDA\n",
        "accuracy_qda = accuracy_score(y_test, y_pred_qda)\n",
        "precision_qda = precision_score(y_test, y_pred_qda)\n",
        "recall_qda = recall_score(y_test, y_pred_qda)\n",
        "f1_qda = f1_score(y_test, y_pred_qda)\n",
        "\n",
        "# Display the metrics for QDA\n",
        "print(\"Metrics for Quadratic Discriminant Analysis (QDA):\")\n",
        "print(\"Accuracy:\", accuracy_qda)\n",
        "print(\"Precision:\", precision_qda)\n",
        "print(\"Recall:\", recall_qda)\n",
        "print(\"F1 Score:\", f1_qda)\n"
      ],
      "metadata": {
        "colab": {
          "base_uri": "https://localhost:8080/"
        },
        "id": "e1z_b-4WCoX6",
        "outputId": "5bc90d90-9059-4a71-bd88-a444dcc7722b"
      },
      "execution_count": 64,
      "outputs": [
        {
          "output_type": "stream",
          "name": "stdout",
          "text": [
            "Metrics for Quadratic Discriminant Analysis (QDA):\n",
            "Accuracy: 0.8974358974358975\n",
            "Precision: 0.8888888888888888\n",
            "Recall: 1.0\n",
            "F1 Score: 0.9411764705882353\n"
          ]
        }
      ]
    },
    {
      "cell_type": "code",
      "source": [],
      "metadata": {
        "id": "VW5rVv2DC8wO"
      },
      "execution_count": null,
      "outputs": []
    }
  ]
}