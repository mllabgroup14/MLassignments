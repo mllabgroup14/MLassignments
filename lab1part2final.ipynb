{
  "nbformat": 4,
  "nbformat_minor": 0,
  "metadata": {
    "colab": {
      "provenance": []
    },
    "kernelspec": {
      "name": "python3",
      "display_name": "Python 3"
    },
    "language_info": {
      "name": "python"
    }
  },
  "cells": [
    {
      "cell_type": "code",
      "execution_count": 1,
      "metadata": {
        "colab": {
          "base_uri": "https://localhost:8080/"
        },
        "id": "glA4ME96EUNF",
        "outputId": "94ec5879-61e0-41e9-8c22-c38013f7bced"
      },
      "outputs": [
        {
          "output_type": "stream",
          "name": "stdout",
          "text": [
            "             Date Month  Day    Price     Open     High      Low   Volume  \\\n",
            "0    Jun 29, 2021   Jun  Tue  2081.85  2092.00  2126.90  2065.05    1.67M   \n",
            "1    Jun 28, 2021   Jun  Mon  2077.75  2084.00  2112.45  2068.40  707.73K   \n",
            "2    Jun 25, 2021   Jun  Fri  2068.85  2084.35  2088.50  2053.10  475.82K   \n",
            "3    Jun 24, 2021   Jun  Thu  2072.95  2098.00  2098.00  2066.00  541.51K   \n",
            "4    Jun 23, 2021   Jun  Wed  2078.25  2102.00  2111.40  2072.00  809.62K   \n",
            "..            ...   ...  ...      ...      ...      ...      ...      ...   \n",
            "244  Jul 07, 2020   Jul  Tue  1397.40  1410.00  1411.00  1390.05  480.21K   \n",
            "245  Jul 06, 2020   Jul  Mon  1400.75  1405.50  1415.50  1394.00  614.93K   \n",
            "246  Jul 03, 2020   Jul  Fri  1405.10  1415.00  1425.00  1398.00  599.49K   \n",
            "247  Jul 02, 2020   Jul  Thu  1412.35  1440.00  1467.80  1395.30    2.16M   \n",
            "248  Jul 01, 2020   Jul  Wed  1363.05  1363.65  1377.00  1356.00  383.00K   \n",
            "\n",
            "       Chg%  \n",
            "0    0.0020  \n",
            "1    0.0043  \n",
            "2   -0.0020  \n",
            "3   -0.0026  \n",
            "4   -0.0023  \n",
            "..      ...  \n",
            "244 -0.0024  \n",
            "245 -0.0031  \n",
            "246 -0.0051  \n",
            "247  0.0362  \n",
            "248  0.0032  \n",
            "\n",
            "[249 rows x 9 columns]\n"
          ]
        }
      ],
      "source": [
        "import numpy as np\n",
        "import pandas as pd\n",
        "import statistics as st\n",
        "import matplotlib.pyplot as plt\n",
        "\n",
        "df = pd.read_excel(r\"/content/irctc.xlsx\")\n",
        "print(df)"
      ]
    },
    {
      "cell_type": "code",
      "source": [
        "#question 2: to find mean and variance of price column\n",
        "mean = df[\"Price\"].mean()\n",
        "\n",
        "print('mean of the price',mean)\n",
        "print()\n",
        "print()\n",
        "y = st.variance(df[\"Price\"])\n",
        "print('variance of the price',y)"
      ],
      "metadata": {
        "colab": {
          "base_uri": "https://localhost:8080/"
        },
        "id": "8JAZl-xlEmnq",
        "outputId": "372a7bba-6200-4693-a5d1-35439fa3b7ca"
      },
      "execution_count": 2,
      "outputs": [
        {
          "output_type": "stream",
          "name": "stdout",
          "text": [
            "mean of the price 1560.6634538152612\n",
            "\n",
            "\n",
            "variance of the price 58732.365352539186\n"
          ]
        }
      ]
    },
    {
      "cell_type": "code",
      "source": [
        "#selecting price data for all wednesdays\n",
        "alldays = df[['Day','Price']]\n",
        "wednesday = alldays[alldays.Day == 'Wed']\n",
        "wednesday.reset_index(inplace = True)\n",
        "print(wednesday)"
      ],
      "metadata": {
        "colab": {
          "base_uri": "https://localhost:8080/"
        },
        "id": "PQ4qzYwkE9hK",
        "outputId": "31683918-7662-456d-8f58-79a0f4dc882b"
      },
      "execution_count": 3,
      "outputs": [
        {
          "output_type": "stream",
          "name": "stdout",
          "text": [
            "    index  Day    Price\n",
            "0       4  Wed  2078.25\n",
            "1       9  Wed  2089.95\n",
            "2      14  Wed  2071.20\n",
            "3      19  Wed  1917.95\n",
            "4      24  Wed  1894.05\n",
            "5      29  Wed  1858.10\n",
            "6      33  Wed  1746.60\n",
            "7      38  Wed  1723.65\n",
            "8      43  Wed  1795.85\n",
            "9      56  Wed  1709.00\n",
            "10     60  Wed  1757.00\n",
            "11     64  Wed  1760.55\n",
            "12     69  Wed  1824.00\n",
            "13     73  Wed  2018.50\n",
            "14     78  Wed  1886.10\n",
            "15     83  Wed  1675.45\n",
            "16     88  Wed  1698.65\n",
            "17     93  Wed  1618.40\n",
            "18     98  Wed  1469.35\n",
            "19    103  Wed  1438.25\n",
            "20    107  Wed  1452.70\n",
            "21    112  Wed  1461.15\n",
            "22    117  Wed  1483.45\n",
            "23    122  Wed  1434.95\n",
            "24    126  Wed  1411.55\n",
            "25    131  Wed  1423.40\n",
            "26    136  Wed  1617.75\n",
            "27    141  Wed  1349.90\n",
            "28    145  Wed  1353.90\n",
            "29    150  Wed  1365.30\n",
            "30    154  Wed  1371.25\n",
            "31    159  Wed  1300.55\n",
            "32    164  Wed  1333.35\n",
            "33    169  Wed  1331.75\n",
            "34    174  Wed  1338.05\n",
            "35    179  Wed  1356.90\n",
            "36    183  Wed  1384.00\n",
            "37    188  Wed  1372.85\n",
            "38    193  Wed  1367.40\n",
            "39    198  Wed  1348.90\n",
            "40    203  Wed  1359.75\n",
            "41    208  Wed  1369.30\n",
            "42    213  Wed  1361.80\n",
            "43    218  Wed  1386.80\n",
            "44    223  Wed  1336.95\n",
            "45    228  Wed  1352.75\n",
            "46    233  Wed  1372.95\n",
            "47    238  Wed  1351.95\n",
            "48    243  Wed  1390.10\n",
            "49    248  Wed  1363.05\n"
          ]
        }
      ]
    },
    {
      "cell_type": "code",
      "source": [
        "wednesdaymean = st.mean(wednesday['Price'])\n",
        "print('mean price of all wednasday_s',wednesdaymean)\n",
        "print()\n",
        "alldaysmean = st.mean(alldays['Price'])\n",
        "print('Mean price of all the days',alldaysmean)"
      ],
      "metadata": {
        "colab": {
          "base_uri": "https://localhost:8080/"
        },
        "id": "YTNsgh13FVWH",
        "outputId": "599210c5-62bd-4a31-c420-c3d68a9527ec"
      },
      "execution_count": 6,
      "outputs": [
        {
          "output_type": "stream",
          "name": "stdout",
          "text": [
            "mean price of all wednasday_s 1550.706\n",
            "\n",
            "Mean price of all the days 1560.663453815261\n"
          ]
        }
      ]
    },
    {
      "cell_type": "code",
      "source": [
        "#mean for the month of april\n",
        "allmonths = df[['Month','Price']]\n",
        "aprilmean = allmonths[allmonths.Month == 'Apr']\n",
        "\n",
        "print('mean of month of april', st.mean(aprilmean['Price']))\n",
        "\n",
        "print('mean of all the months of the year', st.mean(allmonths['Price']))\n",
        "\n",
        "print(allmonths)\n",
        "print(aprilmean)"
      ],
      "metadata": {
        "colab": {
          "base_uri": "https://localhost:8080/"
        },
        "id": "5XJKbohEGAXP",
        "outputId": "7767ca16-1391-41a7-ddd3-ba4d45794978"
      },
      "execution_count": 7,
      "outputs": [
        {
          "output_type": "stream",
          "name": "stdout",
          "text": [
            "mean of month of april 1698.9526315789474\n",
            "mean of all the months of the year 1560.663453815261\n",
            "    Month    Price\n",
            "0     Jun  2081.85\n",
            "1     Jun  2077.75\n",
            "2     Jun  2068.85\n",
            "3     Jun  2072.95\n",
            "4     Jun  2078.25\n",
            "..    ...      ...\n",
            "244   Jul  1397.40\n",
            "245   Jul  1400.75\n",
            "246   Jul  1405.10\n",
            "247   Jul  1412.35\n",
            "248   Jul  1363.05\n",
            "\n",
            "[249 rows x 2 columns]\n",
            "   Month    Price\n",
            "41   Apr  1791.40\n",
            "42   Apr  1792.55\n",
            "43   Apr  1795.85\n",
            "44   Apr  1793.20\n",
            "45   Apr  1730.85\n",
            "46   Apr  1712.00\n",
            "47   Apr  1673.05\n",
            "48   Apr  1640.05\n",
            "49   Apr  1612.70\n",
            "50   Apr  1627.45\n",
            "51   Apr  1608.10\n",
            "52   Apr  1611.65\n",
            "53   Apr  1582.00\n",
            "54   Apr  1730.90\n",
            "55   Apr  1726.40\n",
            "56   Apr  1709.00\n",
            "57   Apr  1688.55\n",
            "58   Apr  1702.65\n",
            "59   Apr  1751.75\n"
          ]
        }
      ]
    },
    {
      "cell_type": "code",
      "source": [
        "#From the Chg% (available in column I) find the probability of making a loss over the stock. (Suggestion: use lambda function to find negative values)\n",
        "\n",
        "chgmean = st.mean(df['Chg%'])\n",
        "print(chgmean)\n",
        "\n",
        "chgstd = st.pstdev(df['Chg%'])\n",
        "print(chgstd)"
      ],
      "metadata": {
        "colab": {
          "base_uri": "https://localhost:8080/"
        },
        "id": "cUdL5nbyGhrC",
        "outputId": "f4db01c4-08af-4f9b-81f5-428868c92be4"
      },
      "execution_count": 8,
      "outputs": [
        {
          "output_type": "stream",
          "name": "stdout",
          "text": [
            "0.00196425702811245\n",
            "0.022442654444254532\n"
          ]
        }
      ]
    },
    {
      "cell_type": "code",
      "source": [
        "#calculating probability of making a profit on wednesdays\n",
        "D = (df['Chg%'] < 0)\n",
        "NEG = df.loc[D]\n",
        "#print(NEG)\n",
        "neg_sum = NEG['Chg%'].sum()\n",
        "print('sum of all negative in chg%',neg_sum)\n",
        "print()\n",
        "D1 = (df['Chg%'] > 0)\n",
        "POS = df.loc[D1]\n",
        "pos_sum = POS['Chg%'].sum()\n",
        "print('sum of all positive in chg%',pos_sum)\n",
        "print()\n",
        "x = neg_sum % pos_sum\n",
        "print(x)\n",
        "print()\n",
        "prb = (x/pos_sum) * 100\n",
        "print('probability of loss over the stock',prb)"
      ],
      "metadata": {
        "colab": {
          "base_uri": "https://localhost:8080/"
        },
        "id": "iCX1YRxAGy-j",
        "outputId": "969aa267-11a4-49e2-e417-d7b233142b3f"
      },
      "execution_count": 9,
      "outputs": [
        {
          "output_type": "stream",
          "name": "stdout",
          "text": [
            "sum of all negative in chg% -1.4492\n",
            "\n",
            "sum of all positive in chg% 1.9383000000000001\n",
            "\n",
            "0.4891000000000001\n",
            "\n",
            "probability of loss over the stock 25.233451994015375\n"
          ]
        }
      ]
    },
    {
      "cell_type": "code",
      "source": [
        "T = df.plot.scatter(x='Chg%',\n",
        "                    y='Day')"
      ],
      "metadata": {
        "colab": {
          "base_uri": "https://localhost:8080/",
          "height": 449
        },
        "id": "MpiweSeJHvN1",
        "outputId": "2277ab9a-1046-47c5-f704-cd9e88dbf9a1"
      },
      "execution_count": 10,
      "outputs": [
        {
          "output_type": "display_data",
          "data": {
            "text/plain": [
              "<Figure size 640x480 with 1 Axes>"
            ],
            "image/png": "[encoded data removed]"
          },
          "metadata": {}
        }
      ]
    }
  ]
}